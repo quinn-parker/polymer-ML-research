{
  "nbformat": 4,
  "nbformat_minor": 0,
  "metadata": {
    "colab": {
      "name": "polymer ML- B & Gi.ipynb",
      "provenance": [],
      "authorship_tag": "ABX9TyOV5hSkfmC7pyy2IRyvDhZa"
    },
    "kernelspec": {
      "name": "python3",
      "display_name": "Python 3"
    }
  },
  "cells": [
    {
      "cell_type": "code",
      "metadata": {
        "id": "WBGXWWydqgPf",
        "outputId": "5925f878-e6f1-4f80-a49b-aba2e0efa7e1",
        "colab": {
          "base_uri": "https://localhost:8080/",
          "height": 51
        }
      },
      "source": [
        "!git clone https://github.com/quinn-parker/polymer-ML-research.git\n",
        "import os\n",
        "import matplotlib.pyplot as plt\n",
        "import numpy as np\n",
        "import sklearn.model_selection\n",
        "import keras\n",
        "from sklearn.manifold import MDS\n",
        "import pandas as pd\n",
        "from sklearn.model_selection import train_test_split\n",
        "from sklearn.model_selection import KFold\n",
        "import tensorflow as tf\n",
        "import matplotlib\n",
        "\n",
        "print('Done')"
      ],
      "execution_count": 7,
      "outputs": [
        {
          "output_type": "stream",
          "text": [
            "fatal: destination path 'polymer-ML-research' already exists and is not an empty directory.\n",
            "Done\n"
          ],
          "name": "stdout"
        }
      ]
    },
    {
      "cell_type": "code",
      "metadata": {
        "id": "Wi0zGBJ4sLwE"
      },
      "source": [
        "##This data frame is concat from 100 row element files (127 files in total). Each monomer structure is created by 100 rows, each with three coordinates.\n",
        "\n",
        "##Clunky, but he we read each different type of monomer into a pandas df.\n",
        "bData = pd.read_csv('/content/polymer-ML-research/normal coordinates/b-config.csv', header=None)\n",
        "giData = pd.read_csv('/content/polymer-ML-research/normal coordinates/gi-config.csv', header=None)\n",
        "\n",
        "##Read in the \"answers\" for the monomer types. B = 0, C = 1, Ge = 2, Gi = 3 for our case\n",
        "bAnswers = pd.read_csv('/content/polymer-ML-research/Answers/b-labels.csv', header = None)\n",
        "giAnswers = pd.read_csv('/content/polymer-ML-research/Answers/gi-labels.csv', header=None)\n",
        "\n",
        "##Now we shall concat, respectivly, the Data & Answers\n",
        "totalData = pd.concat([bData, giData])\n",
        "totalAnswers = pd.concat([bAnswers, giAnswers])\n",
        "\n",
        "##Using SKlearn for splitting test and training into 33% testing and the rest for training.\n",
        "X_train, X_test, y_train, y_test = sklearn.model_selection.train_test_split(totalData, totalAnswers, test_size=0.33, random_state=1701)"
      ],
      "execution_count": 8,
      "outputs": []
    },
    {
      "cell_type": "code",
      "metadata": {
        "id": "ICBcjO7DsW6n"
      },
      "source": [
        "  ## Here we initiate the keras sequential api and use dense layers.\n",
        "from keras.models import Sequential\n",
        "from keras.layers import Dense\n",
        "from keras.layers import Dropout\n",
        "np.random.seed(1701)\n",
        "model = Sequential()\n",
        "model.add(Dense(units =100, activation = 'relu', input_shape = totalData.shape[1:]))\n",
        "model.add(Dense(units = 100, activation='relu', kernel_regularizer=keras.regularizers.l2(0.03)))\n",
        "model.add(Dropout(0.20))\n",
        "model.add(Dense(units = 5, activation = 'softmax', kernel_regularizer=keras.regularizers.l2(0.02)))\n",
        "  #kernel_initializer='uniform'\n"
      ],
      "execution_count": 9,
      "outputs": []
    },
    {
      "cell_type": "code",
      "metadata": {
        "id": "2twMnk3fsZCk",
        "outputId": "5232fde4-dbff-43b2-cbc4-9ef3ed952aa5",
        "colab": {
          "base_uri": "https://localhost:8080/",
          "height": 1000
        }
      },
      "source": [
        "model.compile(optimizer=tf.keras.optimizers.Nadam(learning_rate=0.001, beta_1=0.99, beta_2=0.99, epsilon=1e-07, name=\"Nadam\"), loss =keras.losses.SparseCategoricalCrossentropy(), metrics=['accuracy'])\n",
        "\n",
        "history = model.fit(X_train, y_train, epochs=100,batch_size=30, validation_data=(X_test,y_test))"
      ],
      "execution_count": 10,
      "outputs": [
        {
          "output_type": "stream",
          "text": [
            "Epoch 1/100\n",
            "13/13 [==============================] - 0s 20ms/step - loss: 30.3779 - accuracy: 0.4356 - val_loss: 26.5134 - val_accuracy: 0.5500\n",
            "Epoch 2/100\n",
            "13/13 [==============================] - 0s 4ms/step - loss: 20.4011 - accuracy: 0.5260 - val_loss: 9.6088 - val_accuracy: 0.5389\n",
            "Epoch 3/100\n",
            "13/13 [==============================] - 0s 3ms/step - loss: 13.7092 - accuracy: 0.5178 - val_loss: 16.8863 - val_accuracy: 0.5500\n",
            "Epoch 4/100\n",
            "13/13 [==============================] - 0s 3ms/step - loss: 10.6855 - accuracy: 0.6219 - val_loss: 4.9771 - val_accuracy: 0.6111\n",
            "Epoch 5/100\n",
            "13/13 [==============================] - 0s 3ms/step - loss: 11.1886 - accuracy: 0.5178 - val_loss: 4.5595 - val_accuracy: 0.6000\n",
            "Epoch 6/100\n",
            "13/13 [==============================] - 0s 3ms/step - loss: 8.4764 - accuracy: 0.5178 - val_loss: 5.5623 - val_accuracy: 0.4889\n",
            "Epoch 7/100\n",
            "13/13 [==============================] - 0s 4ms/step - loss: 7.8819 - accuracy: 0.5616 - val_loss: 4.5476 - val_accuracy: 0.6944\n",
            "Epoch 8/100\n",
            "13/13 [==============================] - 0s 4ms/step - loss: 5.2944 - accuracy: 0.6110 - val_loss: 6.1244 - val_accuracy: 0.6000\n",
            "Epoch 9/100\n",
            "13/13 [==============================] - 0s 4ms/step - loss: 5.8202 - accuracy: 0.5753 - val_loss: 9.0916 - val_accuracy: 0.5833\n",
            "Epoch 10/100\n",
            "13/13 [==============================] - 0s 4ms/step - loss: 5.8977 - accuracy: 0.5425 - val_loss: 4.7176 - val_accuracy: 0.5056\n",
            "Epoch 11/100\n",
            "13/13 [==============================] - 0s 3ms/step - loss: 4.0928 - accuracy: 0.6082 - val_loss: 4.6960 - val_accuracy: 0.5333\n",
            "Epoch 12/100\n",
            "13/13 [==============================] - 0s 4ms/step - loss: 4.1781 - accuracy: 0.5534 - val_loss: 2.9552 - val_accuracy: 0.6111\n",
            "Epoch 13/100\n",
            "13/13 [==============================] - 0s 3ms/step - loss: 3.6903 - accuracy: 0.6274 - val_loss: 3.3572 - val_accuracy: 0.6333\n",
            "Epoch 14/100\n",
            "13/13 [==============================] - 0s 3ms/step - loss: 3.0639 - accuracy: 0.6904 - val_loss: 3.4253 - val_accuracy: 0.6056\n",
            "Epoch 15/100\n",
            "13/13 [==============================] - 0s 3ms/step - loss: 3.5043 - accuracy: 0.6466 - val_loss: 2.9426 - val_accuracy: 0.7444\n",
            "Epoch 16/100\n",
            "13/13 [==============================] - 0s 3ms/step - loss: 2.7882 - accuracy: 0.7425 - val_loss: 2.6751 - val_accuracy: 0.7167\n",
            "Epoch 17/100\n",
            "13/13 [==============================] - 0s 3ms/step - loss: 2.8271 - accuracy: 0.7096 - val_loss: 3.0100 - val_accuracy: 0.5833\n",
            "Epoch 18/100\n",
            "13/13 [==============================] - 0s 3ms/step - loss: 2.8077 - accuracy: 0.7096 - val_loss: 3.2189 - val_accuracy: 0.6556\n",
            "Epoch 19/100\n",
            "13/13 [==============================] - 0s 4ms/step - loss: 2.8313 - accuracy: 0.6740 - val_loss: 2.8471 - val_accuracy: 0.7333\n",
            "Epoch 20/100\n",
            "13/13 [==============================] - 0s 4ms/step - loss: 2.5114 - accuracy: 0.7205 - val_loss: 2.3904 - val_accuracy: 0.8722\n",
            "Epoch 21/100\n",
            "13/13 [==============================] - 0s 4ms/step - loss: 2.4210 - accuracy: 0.7836 - val_loss: 3.2105 - val_accuracy: 0.7667\n",
            "Epoch 22/100\n",
            "13/13 [==============================] - 0s 3ms/step - loss: 2.5593 - accuracy: 0.7836 - val_loss: 2.4824 - val_accuracy: 0.6722\n",
            "Epoch 23/100\n",
            "13/13 [==============================] - 0s 3ms/step - loss: 2.5276 - accuracy: 0.7699 - val_loss: 3.8270 - val_accuracy: 0.6444\n",
            "Epoch 24/100\n",
            "13/13 [==============================] - 0s 4ms/step - loss: 2.9341 - accuracy: 0.7342 - val_loss: 2.4492 - val_accuracy: 0.6667\n",
            "Epoch 25/100\n",
            "13/13 [==============================] - 0s 4ms/step - loss: 2.3983 - accuracy: 0.7836 - val_loss: 2.1478 - val_accuracy: 0.9500\n",
            "Epoch 26/100\n",
            "13/13 [==============================] - 0s 4ms/step - loss: 2.2038 - accuracy: 0.8712 - val_loss: 3.1043 - val_accuracy: 0.6222\n",
            "Epoch 27/100\n",
            "13/13 [==============================] - 0s 4ms/step - loss: 2.4495 - accuracy: 0.8000 - val_loss: 2.0559 - val_accuracy: 0.9500\n",
            "Epoch 28/100\n",
            "13/13 [==============================] - 0s 4ms/step - loss: 2.1772 - accuracy: 0.8575 - val_loss: 2.7232 - val_accuracy: 0.8056\n",
            "Epoch 29/100\n",
            "13/13 [==============================] - 0s 3ms/step - loss: 2.3853 - accuracy: 0.7808 - val_loss: 2.4770 - val_accuracy: 0.8056\n",
            "Epoch 30/100\n",
            "13/13 [==============================] - 0s 3ms/step - loss: 2.2124 - accuracy: 0.8438 - val_loss: 2.0705 - val_accuracy: 0.8167\n",
            "Epoch 31/100\n",
            "13/13 [==============================] - 0s 3ms/step - loss: 2.0360 - accuracy: 0.8712 - val_loss: 1.9493 - val_accuracy: 0.9222\n",
            "Epoch 32/100\n",
            "13/13 [==============================] - 0s 3ms/step - loss: 2.0276 - accuracy: 0.8575 - val_loss: 2.9049 - val_accuracy: 0.7278\n",
            "Epoch 33/100\n",
            "13/13 [==============================] - 0s 3ms/step - loss: 2.3126 - accuracy: 0.7945 - val_loss: 2.1508 - val_accuracy: 0.7944\n",
            "Epoch 34/100\n",
            "13/13 [==============================] - 0s 3ms/step - loss: 1.9509 - accuracy: 0.8822 - val_loss: 1.8489 - val_accuracy: 0.9333\n",
            "Epoch 35/100\n",
            "13/13 [==============================] - 0s 3ms/step - loss: 1.8495 - accuracy: 0.9041 - val_loss: 1.7876 - val_accuracy: 0.9500\n",
            "Epoch 36/100\n",
            "13/13 [==============================] - 0s 4ms/step - loss: 1.9705 - accuracy: 0.8548 - val_loss: 1.8588 - val_accuracy: 0.8722\n",
            "Epoch 37/100\n",
            "13/13 [==============================] - 0s 3ms/step - loss: 1.7960 - accuracy: 0.9233 - val_loss: 2.0697 - val_accuracy: 0.8056\n",
            "Epoch 38/100\n",
            "13/13 [==============================] - 0s 4ms/step - loss: 1.8788 - accuracy: 0.8849 - val_loss: 1.7941 - val_accuracy: 0.9222\n",
            "Epoch 39/100\n",
            "13/13 [==============================] - 0s 4ms/step - loss: 1.7931 - accuracy: 0.8849 - val_loss: 1.7271 - val_accuracy: 0.9167\n",
            "Epoch 40/100\n",
            "13/13 [==============================] - 0s 4ms/step - loss: 1.9202 - accuracy: 0.9096 - val_loss: 1.7151 - val_accuracy: 0.9556\n",
            "Epoch 41/100\n",
            "13/13 [==============================] - 0s 3ms/step - loss: 1.6487 - accuracy: 0.9452 - val_loss: 1.6243 - val_accuracy: 0.9167\n",
            "Epoch 42/100\n",
            "13/13 [==============================] - 0s 3ms/step - loss: 1.6937 - accuracy: 0.9315 - val_loss: 4.8796 - val_accuracy: 0.7778\n",
            "Epoch 43/100\n",
            "13/13 [==============================] - 0s 3ms/step - loss: 2.1718 - accuracy: 0.8685 - val_loss: 2.6389 - val_accuracy: 0.7556\n",
            "Epoch 44/100\n",
            "13/13 [==============================] - 0s 3ms/step - loss: 1.8744 - accuracy: 0.8795 - val_loss: 1.4690 - val_accuracy: 0.9722\n",
            "Epoch 45/100\n",
            "13/13 [==============================] - 0s 3ms/step - loss: 2.3216 - accuracy: 0.7616 - val_loss: 2.4451 - val_accuracy: 0.6722\n",
            "Epoch 46/100\n",
            "13/13 [==============================] - 0s 3ms/step - loss: 1.7220 - accuracy: 0.8575 - val_loss: 1.5651 - val_accuracy: 0.8111\n",
            "Epoch 47/100\n",
            "13/13 [==============================] - 0s 3ms/step - loss: 1.5063 - accuracy: 0.9397 - val_loss: 1.5113 - val_accuracy: 0.9167\n",
            "Epoch 48/100\n",
            "13/13 [==============================] - 0s 4ms/step - loss: 1.7049 - accuracy: 0.8767 - val_loss: 1.4482 - val_accuracy: 0.9722\n",
            "Epoch 49/100\n",
            "13/13 [==============================] - 0s 3ms/step - loss: 1.5061 - accuracy: 0.9096 - val_loss: 1.4036 - val_accuracy: 0.9611\n",
            "Epoch 50/100\n",
            "13/13 [==============================] - 0s 3ms/step - loss: 1.4521 - accuracy: 0.9123 - val_loss: 1.3361 - val_accuracy: 0.9889\n",
            "Epoch 51/100\n",
            "13/13 [==============================] - 0s 4ms/step - loss: 1.3708 - accuracy: 0.9452 - val_loss: 1.5807 - val_accuracy: 0.8000\n",
            "Epoch 52/100\n",
            "13/13 [==============================] - 0s 3ms/step - loss: 1.5558 - accuracy: 0.8849 - val_loss: 1.8418 - val_accuracy: 0.8889\n",
            "Epoch 53/100\n",
            "13/13 [==============================] - 0s 4ms/step - loss: 1.5237 - accuracy: 0.8904 - val_loss: 2.4471 - val_accuracy: 0.7778\n",
            "Epoch 54/100\n",
            "13/13 [==============================] - 0s 3ms/step - loss: 1.3859 - accuracy: 0.9479 - val_loss: 1.4606 - val_accuracy: 0.8167\n",
            "Epoch 55/100\n",
            "13/13 [==============================] - 0s 3ms/step - loss: 1.3365 - accuracy: 0.9260 - val_loss: 1.1832 - val_accuracy: 0.9944\n",
            "Epoch 56/100\n",
            "13/13 [==============================] - 0s 3ms/step - loss: 1.2282 - accuracy: 0.9644 - val_loss: 1.1884 - val_accuracy: 0.9667\n",
            "Epoch 57/100\n",
            "13/13 [==============================] - 0s 4ms/step - loss: 1.1554 - accuracy: 0.9726 - val_loss: 1.0928 - val_accuracy: 1.0000\n",
            "Epoch 58/100\n",
            "13/13 [==============================] - 0s 5ms/step - loss: 1.0830 - accuracy: 0.9945 - val_loss: 1.9825 - val_accuracy: 0.7889\n",
            "Epoch 59/100\n",
            "13/13 [==============================] - 0s 4ms/step - loss: 2.0479 - accuracy: 0.8247 - val_loss: 1.0864 - val_accuracy: 0.9889\n",
            "Epoch 60/100\n",
            "13/13 [==============================] - 0s 4ms/step - loss: 1.0930 - accuracy: 0.9753 - val_loss: 1.0286 - val_accuracy: 1.0000\n",
            "Epoch 61/100\n",
            "13/13 [==============================] - 0s 4ms/step - loss: 1.0691 - accuracy: 0.9671 - val_loss: 1.1981 - val_accuracy: 0.8056\n",
            "Epoch 62/100\n",
            "13/13 [==============================] - 0s 3ms/step - loss: 1.0188 - accuracy: 0.9726 - val_loss: 0.9696 - val_accuracy: 0.9889\n",
            "Epoch 63/100\n",
            "13/13 [==============================] - 0s 3ms/step - loss: 1.0466 - accuracy: 0.9534 - val_loss: 0.9686 - val_accuracy: 0.9778\n",
            "Epoch 64/100\n",
            "13/13 [==============================] - 0s 3ms/step - loss: 0.9844 - accuracy: 0.9699 - val_loss: 0.9554 - val_accuracy: 0.9889\n",
            "Epoch 65/100\n",
            "13/13 [==============================] - 0s 3ms/step - loss: 0.9596 - accuracy: 0.9726 - val_loss: 0.9121 - val_accuracy: 0.9944\n",
            "Epoch 66/100\n",
            "13/13 [==============================] - 0s 4ms/step - loss: 0.8781 - accuracy: 0.9945 - val_loss: 1.2079 - val_accuracy: 0.9111\n",
            "Epoch 67/100\n",
            "13/13 [==============================] - 0s 3ms/step - loss: 1.0904 - accuracy: 0.9452 - val_loss: 0.9899 - val_accuracy: 0.8444\n",
            "Epoch 68/100\n",
            "13/13 [==============================] - 0s 4ms/step - loss: 0.8461 - accuracy: 0.9836 - val_loss: 1.4263 - val_accuracy: 0.8000\n",
            "Epoch 69/100\n",
            "13/13 [==============================] - 0s 3ms/step - loss: 0.8468 - accuracy: 0.9808 - val_loss: 2.6666 - val_accuracy: 0.7889\n",
            "Epoch 70/100\n",
            "13/13 [==============================] - 0s 3ms/step - loss: 1.3269 - accuracy: 0.8712 - val_loss: 1.5997 - val_accuracy: 0.8778\n",
            "Epoch 71/100\n",
            "13/13 [==============================] - 0s 3ms/step - loss: 1.2433 - accuracy: 0.8904 - val_loss: 0.8747 - val_accuracy: 0.9111\n",
            "Epoch 72/100\n",
            "13/13 [==============================] - 0s 3ms/step - loss: 0.8062 - accuracy: 0.9699 - val_loss: 1.4557 - val_accuracy: 0.8111\n",
            "Epoch 73/100\n",
            "13/13 [==============================] - 0s 3ms/step - loss: 0.8776 - accuracy: 0.9671 - val_loss: 0.7436 - val_accuracy: 0.9833\n",
            "Epoch 74/100\n",
            "13/13 [==============================] - 0s 3ms/step - loss: 0.7446 - accuracy: 0.9863 - val_loss: 0.7079 - val_accuracy: 1.0000\n",
            "Epoch 75/100\n",
            "13/13 [==============================] - 0s 3ms/step - loss: 0.7122 - accuracy: 0.9836 - val_loss: 0.6818 - val_accuracy: 0.9889\n",
            "Epoch 76/100\n",
            "13/13 [==============================] - 0s 3ms/step - loss: 0.8997 - accuracy: 0.9288 - val_loss: 0.7795 - val_accuracy: 0.9167\n",
            "Epoch 77/100\n",
            "13/13 [==============================] - 0s 4ms/step - loss: 0.6935 - accuracy: 0.9726 - val_loss: 0.6372 - val_accuracy: 1.0000\n",
            "Epoch 78/100\n",
            "13/13 [==============================] - 0s 3ms/step - loss: 0.6854 - accuracy: 0.9699 - val_loss: 1.8186 - val_accuracy: 0.8056\n",
            "Epoch 79/100\n",
            "13/13 [==============================] - 0s 3ms/step - loss: 0.7719 - accuracy: 0.9562 - val_loss: 0.9714 - val_accuracy: 0.8944\n",
            "Epoch 80/100\n",
            "13/13 [==============================] - 0s 3ms/step - loss: 0.6709 - accuracy: 0.9671 - val_loss: 0.5970 - val_accuracy: 0.9944\n",
            "Epoch 81/100\n",
            "13/13 [==============================] - 0s 3ms/step - loss: 0.6280 - accuracy: 0.9808 - val_loss: 0.5845 - val_accuracy: 0.9889\n",
            "Epoch 82/100\n",
            "13/13 [==============================] - 0s 3ms/step - loss: 0.5725 - accuracy: 0.9863 - val_loss: 2.4153 - val_accuracy: 0.7944\n",
            "Epoch 83/100\n",
            "13/13 [==============================] - 0s 3ms/step - loss: 0.7242 - accuracy: 0.9479 - val_loss: 0.6615 - val_accuracy: 0.9500\n",
            "Epoch 84/100\n",
            "13/13 [==============================] - 0s 3ms/step - loss: 0.6884 - accuracy: 0.9671 - val_loss: 0.5106 - val_accuracy: 1.0000\n",
            "Epoch 85/100\n",
            "13/13 [==============================] - 0s 4ms/step - loss: 0.4984 - accuracy: 1.0000 - val_loss: 0.4915 - val_accuracy: 1.0000\n",
            "Epoch 86/100\n",
            "13/13 [==============================] - 0s 4ms/step - loss: 0.5163 - accuracy: 0.9863 - val_loss: 0.4952 - val_accuracy: 1.0000\n",
            "Epoch 87/100\n",
            "13/13 [==============================] - 0s 3ms/step - loss: 0.4787 - accuracy: 1.0000 - val_loss: 0.4649 - val_accuracy: 1.0000\n",
            "Epoch 88/100\n",
            "13/13 [==============================] - 0s 3ms/step - loss: 0.4708 - accuracy: 0.9918 - val_loss: 0.4513 - val_accuracy: 1.0000\n",
            "Epoch 89/100\n",
            "13/13 [==============================] - 0s 4ms/step - loss: 0.4724 - accuracy: 0.9918 - val_loss: 0.4366 - val_accuracy: 1.0000\n",
            "Epoch 90/100\n",
            "13/13 [==============================] - 0s 3ms/step - loss: 0.4789 - accuracy: 0.9808 - val_loss: 0.4310 - val_accuracy: 1.0000\n",
            "Epoch 91/100\n",
            "13/13 [==============================] - 0s 3ms/step - loss: 0.4219 - accuracy: 0.9973 - val_loss: 0.4122 - val_accuracy: 1.0000\n",
            "Epoch 92/100\n",
            "13/13 [==============================] - 0s 3ms/step - loss: 0.4529 - accuracy: 0.9781 - val_loss: 1.5729 - val_accuracy: 0.7444\n",
            "Epoch 93/100\n",
            "13/13 [==============================] - 0s 3ms/step - loss: 0.8073 - accuracy: 0.9205 - val_loss: 0.4582 - val_accuracy: 0.9833\n",
            "Epoch 94/100\n",
            "13/13 [==============================] - 0s 3ms/step - loss: 0.4128 - accuracy: 0.9890 - val_loss: 0.3803 - val_accuracy: 1.0000\n",
            "Epoch 95/100\n",
            "13/13 [==============================] - 0s 3ms/step - loss: 0.3772 - accuracy: 0.9973 - val_loss: 0.3682 - val_accuracy: 1.0000\n",
            "Epoch 96/100\n",
            "13/13 [==============================] - 0s 3ms/step - loss: 0.3710 - accuracy: 0.9945 - val_loss: 0.3616 - val_accuracy: 1.0000\n",
            "Epoch 97/100\n",
            "13/13 [==============================] - 0s 5ms/step - loss: 0.4559 - accuracy: 0.9644 - val_loss: 0.3798 - val_accuracy: 0.9889\n",
            "Epoch 98/100\n",
            "13/13 [==============================] - 0s 3ms/step - loss: 0.3498 - accuracy: 0.9973 - val_loss: 0.3355 - val_accuracy: 1.0000\n",
            "Epoch 99/100\n",
            "13/13 [==============================] - 0s 4ms/step - loss: 0.3469 - accuracy: 0.9918 - val_loss: 0.3289 - val_accuracy: 1.0000\n",
            "Epoch 100/100\n",
            "13/13 [==============================] - 0s 3ms/step - loss: 0.3200 - accuracy: 0.9973 - val_loss: 0.3161 - val_accuracy: 1.0000\n"
          ],
          "name": "stdout"
        }
      ]
    },
    {
      "cell_type": "code",
      "metadata": {
        "id": "iJdRNeKusuS-",
        "outputId": "248348ab-2d03-42f4-dc75-4f8095b74886",
        "colab": {
          "base_uri": "https://localhost:8080/",
          "height": 34
        }
      },
      "source": [
        "#In case you need to clear the previous action, easily.\n",
        "%reset"
      ],
      "execution_count": 6,
      "outputs": [
        {
          "output_type": "stream",
          "text": [
            "Once deleted, variables cannot be recovered. Proceed (y/[n])? y\n"
          ],
          "name": "stdout"
        }
      ]
    },
    {
      "cell_type": "code",
      "metadata": {
        "id": "1-lSWA8os6h3",
        "outputId": "5d81b7be-4f06-4e2e-9371-5efc0ce87099",
        "colab": {
          "base_uri": "https://localhost:8080/",
          "height": 707
        }
      },
      "source": [
        "def plot_confusion_matrix(cm, classes,\n",
        "                          normalize=False,\n",
        "                          title='Confusion matrix',\n",
        "                          cmap=plt.cm.Blues):\n",
        "    \"\"\"\n",
        "    This function prints and plots the confusion matrix.\n",
        "    Normalization can be applied by setting `normalize=True`.\n",
        "    \"\"\"\n",
        "    plt.imshow(cm, interpolation='nearest', cmap=cmap)\n",
        "    plt.title(title)\n",
        "    plt.colorbar()\n",
        "    tick_marks = np.arange(len(classes))\n",
        "    plt.xticks(tick_marks, classes, rotation=45)\n",
        "    plt.yticks(tick_marks, classes)\n",
        "\n",
        "    if normalize:\n",
        "        cm = cm.astype('float') / cm.sum(axis=1)[:, np.newaxis]\n",
        "        print(\"Normalized confusion matrix\")\n",
        "    else:\n",
        "        print('Confusion matrix, without normalization')\n",
        "\n",
        "    print(cm)\n",
        "\n",
        "    thresh = cm.max() / 2.\n",
        "    for i, j in itertools.product(range(cm.shape[0]), range(cm.shape[1])):\n",
        "        plt.text(j, i, cm[i, j],\n",
        "                 horizontalalignment=\"center\",\n",
        "                 color=\"white\" if cm[i, j] > thresh else \"black\")\n",
        "\n",
        "    plt.tight_layout()\n",
        "    plt.ylabel('True label')\n",
        "    plt.xlabel('Predicted label')\n",
        "\n",
        "\n",
        "##Lets make a confusing Confusion Matrix with SKLearn.\n",
        "import itertools\n",
        "import numpy as np\n",
        "import matplotlib.pyplot as plt\n",
        "\n",
        "from sklearn import svm, datasets\n",
        "from sklearn.model_selection import train_test_split\n",
        "from sklearn.metrics import confusion_matrix\n",
        "\n",
        "pred = model.predict(X_test)\n",
        "classes_pred = np.argmax(pred, axis = 1)\n",
        "\n",
        "# Compute confusion matrix\n",
        "cnf_matrix = confusion_matrix(y_test, classes_pred)\n",
        "np.set_printoptions(precision=2)\n",
        "\n",
        "# Plot non-normalized confusion matrix\n",
        "plt.figure()\n",
        "nonNormalMatrix = plot_confusion_matrix(cnf_matrix, classes=['B','Gi'], title='Confusion matrix, without normalization')\n",
        "\n",
        "# Plot normalized confusion matrix\n",
        "plt.figure()\n",
        "normalMatrix = plot_confusion_matrix(cnf_matrix, classes=['B','Gi'], normalize=True, title='Normalized confusion matrix')\n",
        "normalMatrix"
      ],
      "execution_count": 12,
      "outputs": [
        {
          "output_type": "stream",
          "text": [
            "Confusion matrix, without normalization\n",
            "[[ 75   0]\n",
            " [  0 105]]\n",
            "Normalized confusion matrix\n",
            "[[1. 0.]\n",
            " [0. 1.]]\n"
          ],
          "name": "stdout"
        },
        {
          "output_type": "display_data",
          "data": {
            "image/png": "[encoded data removed]",
            "text/plain": [
              "<Figure size 432x288 with 2 Axes>"
            ]
          },
          "metadata": {
            "tags": [],
            "needs_background": "light"
          }
        },
        {
          "output_type": "display_data",
          "data": {
            "image/png": "[encoded data removed]",
            "text/plain": [
              "<Figure size 432x288 with 2 Axes>"
            ]
          },
          "metadata": {
            "tags": [],
            "needs_background": "light"
          }
        }
      ]
    },
    {
      "cell_type": "code",
      "metadata": {
        "id": "UnsMadigtAJj",
        "outputId": "c93f6d90-f8d6-48fc-90fd-8401b4102216",
        "colab": {
          "base_uri": "https://localhost:8080/",
          "height": 170
        }
      },
      "source": [
        "##We now print a classification report from confusion matrix\n",
        "from sklearn.metrics import classification_report\n",
        "print(classification_report(y_test, classes_pred))"
      ],
      "execution_count": 13,
      "outputs": [
        {
          "output_type": "stream",
          "text": [
            "              precision    recall  f1-score   support\n",
            "\n",
            "           0       1.00      1.00      1.00        75\n",
            "           3       1.00      1.00      1.00       105\n",
            "\n",
            "    accuracy                           1.00       180\n",
            "   macro avg       1.00      1.00      1.00       180\n",
            "weighted avg       1.00      1.00      1.00       180\n",
            "\n"
          ],
          "name": "stdout"
        }
      ]
    },
    {
      "cell_type": "code",
      "metadata": {
        "id": "VpPxrjm4tDYP",
        "outputId": "1e89f214-3a79-4377-a5a6-38f14c8c78db",
        "colab": {
          "base_uri": "https://localhost:8080/",
          "height": 315
        }
      },
      "source": [
        "## Now we can do a little plot to see the correlation between the training statistics and the validation statistics. \n",
        "import numpy as np\n",
        "import pandas as pd\n",
        "import matplotlib.pyplot as plt\n",
        "\n",
        "\n",
        "acc = history.history['accuracy']\n",
        "val_acc = history.history['val_accuracy']\n",
        "loss = history.history['loss']\n",
        "val_loss = history.history['val_loss']\n",
        "epochs = range(len(acc))\n",
        "\n",
        "\n",
        "\n",
        "plt.plot(epochs, acc, 'r', label='Training accuracy')\n",
        "plt. plot(epochs, val_acc, 'b', label='Validation accuracy')\n",
        "plt.title('Training and validation accuracy')\n",
        "plt.figure()"
      ],
      "execution_count": 14,
      "outputs": [
        {
          "output_type": "execute_result",
          "data": {
            "text/plain": [
              "<Figure size 432x288 with 0 Axes>"
            ]
          },
          "metadata": {
            "tags": []
          },
          "execution_count": 14
        },
        {
          "output_type": "display_data",
          "data": {
            "image/png": "[encoded data removed]",
            "text/plain": [
              "<Figure size 432x288 with 1 Axes>"
            ]
          },
          "metadata": {
            "tags": [],
            "needs_background": "light"
          }
        },
        {
          "output_type": "display_data",
          "data": {
            "text/plain": [
              "<Figure size 432x288 with 0 Axes>"
            ]
          },
          "metadata": {
            "tags": []
          }
        }
      ]
    },
    {
      "cell_type": "code",
      "metadata": {
        "id": "-3Iewie6tGBA"
      },
      "source": [
        "# Save the entire model as a SavedModel.\n",
        "!mkdir -p saved_model\n",
        "classifier.save('/content/monomer-new-data/myBGiModel') "
      ],
      "execution_count": null,
      "outputs": []
    }
  ]
}