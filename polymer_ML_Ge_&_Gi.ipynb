{
  "nbformat": 4,
  "nbformat_minor": 0,
  "metadata": {
    "colab": {
      "name": "polymer ML- Ge & Gi.ipynb",
      "provenance": [],
      "authorship_tag": "ABX9TyMfbw0M17+gZDlojxsLAnup"
    },
    "kernelspec": {
      "name": "python3",
      "display_name": "Python 3"
    },
    "accelerator": "GPU"
  },
  "cells": [
    {
      "cell_type": "code",
      "metadata": {
        "id": "rDARc56wqeZP",
        "outputId": "c941f4ad-c82c-4b55-a579-a2991f4be3ad",
        "colab": {
          "base_uri": "https://localhost:8080/",
          "height": 136
        }
      },
      "source": [
        "!git clone https://github.com/quinn-parker/polymer-ML-research.git\n",
        "import os\n",
        "import matplotlib.pyplot as plt\n",
        "import numpy as np\n",
        "import sklearn.model_selection\n",
        "import keras\n",
        "from sklearn.manifold import MDS\n",
        "import pandas as pd\n",
        "from sklearn.model_selection import train_test_split\n",
        "from sklearn.model_selection import KFold\n",
        "import tensorflow as tf\n",
        "import matplotlib\n",
        "\n",
        "print('Done')"
      ],
      "execution_count": 1,
      "outputs": [
        {
          "output_type": "stream",
          "text": [
            "Cloning into 'polymer-ML-research'...\n",
            "remote: Enumerating objects: 92, done.\u001b[K\n",
            "remote: Counting objects: 100% (92/92), done.\u001b[K\n",
            "remote: Compressing objects: 100% (90/90), done.\u001b[K\n",
            "remote: Total 92 (delta 31), reused 0 (delta 0), pack-reused 0\u001b[K\n",
            "Unpacking objects: 100% (92/92), done.\n",
            "Done\n"
          ],
          "name": "stdout"
        }
      ]
    },
    {
      "cell_type": "markdown",
      "metadata": {
        "id": "EWMRGIoMq43d"
      },
      "source": [
        "#1. Supervised learning for only Ge and Gi"
      ]
    },
    {
      "cell_type": "code",
      "metadata": {
        "id": "q4PyEimHq3qt"
      },
      "source": [
        "##This data frame is concat from 100 row element files (127 files in total). Each monomer structure is created by 100 rows, each with three coordinates.\n",
        "\n",
        "geData = pd.read_csv('/content/polymer-ML-research/normal coordinates/ge-config.csv', header=None)\n",
        "giData = pd.read_csv('/content/polymer-ML-research/normal coordinates/gi-config.csv', header=None)\n",
        "\n",
        "##Read in the \"answers\" for the monomer types. B = 0, C = 1, Ge = 2, Gi = 3 for our case\n",
        "geAnswers = pd.read_csv('/content/polymer-ML-research/Answers/ge-labels.csv', header=None)\n",
        "giAnswers = pd.read_csv('/content/polymer-ML-research/Answers/gi-labels.csv', header=None)\n",
        "\n",
        "##Now we shall concat, respectivly, the Data & Answers\n",
        "totalData = pd.concat([geData, giData])\n",
        "totalAnswers = pd.concat([geAnswers, giAnswers])\n",
        "\n",
        "##Using SKlearn for splitting test and training into 33% testing and the rest for training.\n",
        "X_train, X_test, y_train, y_test = sklearn.model_selection.train_test_split(totalData, totalAnswers, test_size=0.33, random_state=1701)"
      ],
      "execution_count": 3,
      "outputs": []
    },
    {
      "cell_type": "code",
      "metadata": {
        "id": "ZxVnx2K8rTih"
      },
      "source": [
        "## Here we initiate the keras sequential api and use dense layers.\n",
        "from keras.models import Sequential\n",
        "from keras.layers import Dense\n",
        "from keras.layers import Dropout\n",
        "np.random.seed(1701)\n",
        "model = Sequential()\n",
        "model.add(Dense(units =100, activation = 'relu', input_shape = totalData.shape[1:]))\n",
        "model.add(Dense(units = 100, activation='relu', kernel_regularizer=keras.regularizers.l2(0.03)))\n",
        "model.add(Dropout(0.20))\n",
        "model.add(Dense(units = 5, activation = 'softmax', kernel_regularizer=keras.regularizers.l2(0.02)))"
      ],
      "execution_count": 4,
      "outputs": []
    },
    {
      "cell_type": "code",
      "metadata": {
        "id": "E2c7nDURrcRc"
      },
      "source": [
        "model.compile(optimizer=tf.keras.optimizers.Nadam(learning_rate=0.001, beta_1=0.99, beta_2=0.99, epsilon=1e-07, name=\"Nadam\"), loss =keras.losses.SparseCategoricalCrossentropy(), metrics=['accuracy'])\n",
        "\n",
        "history = model.fit(X_train, y_train, epochs=500,batch_size=30, validation_data=(X_test,y_test))"
      ],
      "execution_count": null,
      "outputs": []
    },
    {
      "cell_type": "code",
      "metadata": {
        "id": "_aZVs7BGrn54"
      },
      "source": [
        "#In case you need to clear the previous action, easily.\n",
        "%reset"
      ],
      "execution_count": null,
      "outputs": []
    },
    {
      "cell_type": "code",
      "metadata": {
        "id": "RVEUtp5nrol4",
        "outputId": "4e84d667-f959-4fae-ab51-5c22bc7adf43",
        "colab": {
          "base_uri": "https://localhost:8080/",
          "height": 707
        }
      },
      "source": [
        "def plot_confusion_matrix(cm, classes,\n",
        "                          normalize=False,\n",
        "                          title='Confusion matrix',\n",
        "                          cmap=plt.cm.Blues):\n",
        "    \"\"\"\n",
        "    This function prints and plots the confusion matrix.\n",
        "    Normalization can be applied by setting `normalize=True`.\n",
        "    \"\"\"\n",
        "    plt.imshow(cm, interpolation='nearest', cmap=cmap)\n",
        "    plt.title(title)\n",
        "    plt.colorbar()\n",
        "    tick_marks = np.arange(len(classes))\n",
        "    plt.xticks(tick_marks, classes, rotation=45)\n",
        "    plt.yticks(tick_marks, classes)\n",
        "\n",
        "    if normalize:\n",
        "        cm = cm.astype('float') / cm.sum(axis=1)[:, np.newaxis]\n",
        "        print(\"Normalized confusion matrix\")\n",
        "    else:\n",
        "        print('Confusion matrix, without normalization')\n",
        "\n",
        "    print(cm)\n",
        "\n",
        "    thresh = cm.max() / 2.\n",
        "    for i, j in itertools.product(range(cm.shape[0]), range(cm.shape[1])):\n",
        "        plt.text(j, i, cm[i, j],\n",
        "                 horizontalalignment=\"center\",\n",
        "                 color=\"white\" if cm[i, j] > thresh else \"black\")\n",
        "\n",
        "    plt.tight_layout()\n",
        "    plt.ylabel('True label')\n",
        "    plt.xlabel('Predicted label')\n",
        "\n",
        "\n",
        "##Lets make a confusing Confusion Matrix with SKLearn.\n",
        "import itertools\n",
        "import numpy as np\n",
        "import matplotlib.pyplot as plt\n",
        "\n",
        "from sklearn import svm, datasets\n",
        "from sklearn.model_selection import train_test_split\n",
        "from sklearn.metrics import confusion_matrix\n",
        "\n",
        "pred = model.predict(X_test)\n",
        "classes_pred = np.argmax(pred, axis = 1)\n",
        "\n",
        "# Compute confusion matrix\n",
        "cnf_matrix = confusion_matrix(y_test, classes_pred)\n",
        "np.set_printoptions(precision=2)\n",
        "\n",
        "# Plot non-normalized confusion matrix\n",
        "plt.figure()\n",
        "nonNormalMatrix = plot_confusion_matrix(cnf_matrix, classes=['Ge','Gi'], title='Confusion matrix, without normalization')\n",
        "\n",
        "# Plot normalized confusion matrix\n",
        "plt.figure()\n",
        "normalMatrix = plot_confusion_matrix(cnf_matrix, classes=['Ge','Gi'], normalize=True, title='Normalized confusion matrix')\n",
        "normalMatrix"
      ],
      "execution_count": 7,
      "outputs": [
        {
          "output_type": "stream",
          "text": [
            "Confusion matrix, without normalization\n",
            "[[ 49  10]\n",
            " [  6 106]]\n",
            "Normalized confusion matrix\n",
            "[[0.83 0.17]\n",
            " [0.05 0.95]]\n"
          ],
          "name": "stdout"
        },
        {
          "output_type": "display_data",
          "data": {
            "image/png": "[encoded data removed]",
            "text/plain": [
              "<Figure size 432x288 with 2 Axes>"
            ]
          },
          "metadata": {
            "tags": [],
            "needs_background": "light"
          }
        },
        {
          "output_type": "display_data",
          "data": {
            "image/png": "[encoded data removed]",
            "text/plain": [
              "<Figure size 432x288 with 2 Axes>"
            ]
          },
          "metadata": {
            "tags": [],
            "needs_background": "light"
          }
        }
      ]
    },
    {
      "cell_type": "code",
      "metadata": {
        "id": "rh6ZXj8Grzzd",
        "outputId": "ee6327ff-b0d0-4f8c-f031-314bbbdb4ded",
        "colab": {
          "base_uri": "https://localhost:8080/",
          "height": 170
        }
      },
      "source": [
        "##We now print a classification report from confusion matrix\n",
        "from sklearn.metrics import classification_report\n",
        "print(classification_report(y_test, classes_pred))"
      ],
      "execution_count": 8,
      "outputs": [
        {
          "output_type": "stream",
          "text": [
            "              precision    recall  f1-score   support\n",
            "\n",
            "           2       0.89      0.83      0.86        59\n",
            "           3       0.91      0.95      0.93       112\n",
            "\n",
            "    accuracy                           0.91       171\n",
            "   macro avg       0.90      0.89      0.89       171\n",
            "weighted avg       0.91      0.91      0.91       171\n",
            "\n"
          ],
          "name": "stdout"
        }
      ]
    },
    {
      "cell_type": "code",
      "metadata": {
        "id": "TFE-G9Bvr2vD",
        "outputId": "74e69fea-d535-41e0-8b30-ace969894e99",
        "colab": {
          "base_uri": "https://localhost:8080/",
          "height": 315
        }
      },
      "source": [
        "## Now we can do a little plot to see the correlation between the training statistics and the validation statistics. \n",
        "import numpy as np\n",
        "import pandas as pd\n",
        "import matplotlib.pyplot as plt\n",
        "\n",
        "\n",
        "acc = history.history['accuracy']\n",
        "val_acc = history.history['val_accuracy']\n",
        "loss = history.history['loss']\n",
        "val_loss = history.history['val_loss']\n",
        "epochs = range(len(acc))\n",
        "\n",
        "\n",
        "\n",
        "plt.plot(epochs, acc, 'r', label='Training accuracy')\n",
        "plt. plot(epochs, val_acc, 'b', label='Validation accuracy')\n",
        "plt.title('Training and validation accuracy')\n",
        "plt.figure()\n",
        "\n",
        "\n"
      ],
      "execution_count": 9,
      "outputs": [
        {
          "output_type": "execute_result",
          "data": {
            "text/plain": [
              "<Figure size 432x288 with 0 Axes>"
            ]
          },
          "metadata": {
            "tags": []
          },
          "execution_count": 9
        },
        {
          "output_type": "display_data",
          "data": {
            "image/png": "[encoded data removed]",
            "text/plain": [
              "<Figure size 432x288 with 1 Axes>"
            ]
          },
          "metadata": {
            "tags": [],
            "needs_background": "light"
          }
        },
        {
          "output_type": "display_data",
          "data": {
            "text/plain": [
              "<Figure size 432x288 with 0 Axes>"
            ]
          },
          "metadata": {
            "tags": []
          }
        }
      ]
    },
    {
      "cell_type": "code",
      "metadata": {
        "id": "wCPNltUzr4zI"
      },
      "source": [
        "# Save the entire model as a SavedModel.\n",
        "!mkdir -p saved_model\n",
        "classifier.save('/content/monomer-new-data/myGeGiModel') "
      ],
      "execution_count": null,
      "outputs": []
    }
  ]
}