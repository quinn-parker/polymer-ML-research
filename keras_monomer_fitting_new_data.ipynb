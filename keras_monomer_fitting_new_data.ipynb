{
  "nbformat": 4,
  "nbformat_minor": 0,
  "metadata": {
    "colab": {
      "name": "keras-monomer-fitting-new-data.ipynb",
      "provenance": [],
      "collapsed_sections": [],
      "include_colab_link": true
    },
    "kernelspec": {
      "name": "python3",
      "display_name": "Python 3"
    },
    "accelerator": "TPU"
  },
  "cells": [
    {
      "cell_type": "markdown",
      "metadata": {
        "id": "view-in-github",
        "colab_type": "text"
      },
      "source": [
        "<a href=\"https://colab.research.google.com/github/quinn-parker/polymer-ML-research/blob/master/keras_monomer_fitting_new_data.ipynb\" target=\"_parent\"><img src=\"https://colab.research.google.com/assets/colab-badge.svg\" alt=\"Open In Colab\"/></a>"
      ]
    },
    {
      "cell_type": "code",
      "metadata": {
        "id": "Iogi_tG-13rl",
        "colab_type": "code",
        "colab": {}
      },
      "source": [
        "!git clone https://github.com/quinn-parker/polymer-ML-research.git\n",
        "import os\n",
        "import matplotlib.pyplot as plt\n",
        "import numpy as np\n",
        "import sklearn.model_selection\n",
        "import keras\n",
        "from sklearn.manifold import MDS\n",
        "import pandas as pd\n",
        "from sklearn.model_selection import train_test_split\n",
        "from sklearn.model_selection import KFold\n",
        "import tensorflow as tf\n",
        "import matplotlib\n",
        "%matplotlib inline\n",
        "from sklearn.preprocessing import scale # This is for Data scaling\n",
        "from sklearn import decomposition #AKA: PCA\n",
        "from sklearn.metrics import confusion_matrix\n",
        "import plotly.express as px # for graphing in the PCA section\n",
        "\n",
        "\n",
        "print('Done')"
      ],
      "execution_count": null,
      "outputs": []
    },
    {
      "cell_type": "markdown",
      "metadata": {
        "id": "Au3fgNnq0x_0",
        "colab_type": "text"
      },
      "source": [
        "# 1. Supervised learning on coordinates"
      ]
    },
    {
      "cell_type": "code",
      "metadata": {
        "id": "V-3W3A7ASgy_",
        "colab_type": "code",
        "colab": {}
      },
      "source": [
        "##This data frame is concat from 100 row element files (127 files in total). Each monomer structure is created by 100 rows, each with three coordinates.\n",
        "\n",
        "##Clunky, but he we read each different type of monomer into a pandas df.\n",
        "bData = pd.read_csv('/content/polymer-ML-research/normal coordinates/b-config.csv', header=None)\n",
        "cData = pd.read_csv('/content/polymer-ML-research/normal coordinates/c-config.csv', header=None)\n",
        "geData = pd.read_csv('/content/polymer-ML-research/normal coordinates/ge-config.csv', header=None)\n",
        "giData = pd.read_csv('/content/polymer-ML-research/normal coordinates/gi-config.csv', header=None)\n",
        "rData = pd.read_csv('/content/polymer-ML-research/normal coordinates/r-config.csv', header=None)\n",
        "\n",
        "##Read in the \"answers\" for the monomer types. B = 0, C = 1, Ge = 2, Gi = 3 for our case\n",
        "bAnswers = pd.read_csv('/content/polymer-ML-research/Answers/b-labels.csv', header = None)\n",
        "cAnswers = pd.read_csv('/content/polymer-ML-research/Answers/c-labels.csv', header = None)\n",
        "geAnswers = pd.read_csv('/content/polymer-ML-research/Answers/ge-labels.csv', header=None)\n",
        "giAnswers = pd.read_csv('/content/polymer-ML-research/Answers/gi-labels.csv', header=None)\n",
        "rAnswers = pd.read_csv('/content/polymer-ML-research/Answers/r-labels.csv', header=None)\n",
        "\n",
        "##Now we shall concat, respectivly, the Data & Answers\n",
        "totalData = pd.concat([bData, cData, geData, giData, rData])\n",
        "totalAnswers = pd.concat([bAnswers, cAnswers, geAnswers, giAnswers, rAnswers])\n",
        "\n",
        "##Using SKlearn for splitting test and training into 33% testing and the rest for training.\n",
        "X_train, X_test, y_train, y_test = sklearn.model_selection.train_test_split(totalData, totalAnswers, test_size=0.33, random_state=34234)"
      ],
      "execution_count": 26,
      "outputs": []
    },
    {
      "cell_type": "code",
      "metadata": {
        "id": "a2_ui0j63ZOv",
        "colab_type": "code",
        "colab": {}
      },
      "source": [
        "from sklearn.model_selection import StratifiedKFold\n",
        "seed = 1701\n",
        "kfold = StratifiedKFold(n_splits=5, shuffle=True, random_state=seed)\n",
        "cvscores = []\n",
        "for train, test in kfold.split(totalData, totalAnswers):\n",
        "\n",
        "\n",
        "  ## Here we initiate the keras sequential api and use dense layers.\n",
        "  from keras.models import Sequential\n",
        "  from keras.layers import Dense\n",
        "  from keras.layers import Dropout\n",
        "  np.random.seed(1701)\n",
        "  model = Sequential()\n",
        "  model.add(Dense(units =100, activation = 'relu', input_shape = totalData.shape[1:]))\n",
        "  model.add(Dense(units = 100, activation='relu', kernel_regularizer=keras.regularizers.l2(0.03)))\n",
        "  model.add(Dropout(0.20))\n",
        "  model.add(Dense(units = 5, activation = 'softmax', kernel_regularizer=keras.regularizers.l2(0.02)))\n",
        "  #kernel_initializer='uniform'\n",
        "\n",
        "  import math\n",
        "  #initial_lrate = 1\n",
        "  #drop = 0.1\n",
        "  #epochs_drop = 60.0\n",
        "  #lrate = initial_lrate * math.pow(drop,math.floor((1+epoch)/epochs_drop))\n",
        "  #opt = keras.optimizers.rmsprop(lr=lrate)\n",
        "  model.compile(optimizer=tf.keras.optimizers.Nadam(learning_rate=0.001, beta_1=0.99, beta_2=0.99, epsilon=1e-07, name=\"Nadam\"), loss =keras.losses.SparseCategoricalCrossentropy(), metrics=['accuracy'])\n",
        "\n",
        "  history = model.fit(X_train, y_train, epochs=500,batch_size=30, validation_data=(X_test,y_test))\n",
        "\n",
        "  scores = model.evaluate(X_test, y_test, verbose=0)\n",
        "  print(\"%s: %.2f%%\" % (model.metrics_names[1], scores[1]*100))\n",
        "cvscores.append(scores[1] * 100)\n",
        "print(\"%.2f%% (+/- %.2f%%)\" % (np.mean(cvscores), np.std(cvscores)))"
      ],
      "execution_count": null,
      "outputs": []
    },
    {
      "cell_type": "code",
      "metadata": {
        "id": "i6WydbGMDBDG",
        "colab_type": "code",
        "colab": {}
      },
      "source": [
        "\n",
        "\n",
        "#from sklearn import svm\n",
        "#clf = svm.SVC(kernel='linear', C=1).fit(X_train, y_train)\n",
        "#from sklearn.model_selection import cross_val_score\n",
        "\n",
        "#scores = cross_val_score(history, totalData, totalAnswers, cv=5)\n",
        "\n",
        "\n",
        "#from sklearn.model_selection import cross_val_score\n",
        "#scores = cross_val_score(history, totalData, totalAnswers, cv=5)"
      ],
      "execution_count": null,
      "outputs": []
    },
    {
      "cell_type": "code",
      "metadata": {
        "id": "-4Fk64qHCLEJ",
        "colab_type": "code",
        "colab": {}
      },
      "source": [
        "#In case you need to clear the previous action, easily.\n",
        "%reset"
      ],
      "execution_count": null,
      "outputs": []
    },
    {
      "cell_type": "code",
      "metadata": {
        "id": "gRCN14dizM5B",
        "colab_type": "code",
        "colab": {}
      },
      "source": [
        "def plot_confusion_matrix(cm, classes,\n",
        "                          normalize=False,\n",
        "                          title='Confusion matrix',\n",
        "                          cmap=plt.cm.Blues):\n",
        "    \"\"\"\n",
        "    This function prints and plots the confusion matrix.\n",
        "    Normalization can be applied by setting `normalize=True`.\n",
        "    \"\"\"\n",
        "    plt.imshow(cm, interpolation='nearest', cmap=cmap)\n",
        "    plt.title(title)\n",
        "    plt.colorbar()\n",
        "    tick_marks = np.arange(len(classes))\n",
        "    plt.xticks(tick_marks, classes, rotation=45)\n",
        "    plt.yticks(tick_marks, classes)\n",
        "\n",
        "    if normalize:\n",
        "        cm = cm.astype('float') / cm.sum(axis=1)[:, np.newaxis]\n",
        "        print(\"Normalized confusion matrix\")\n",
        "    else:\n",
        "        print('Confusion matrix, without normalization')\n",
        "\n",
        "    print(cm)\n",
        "\n",
        "    thresh = cm.max() / 2.\n",
        "    for i, j in itertools.product(range(cm.shape[0]), range(cm.shape[1])):\n",
        "        plt.text(j, i, cm[i, j],\n",
        "                 horizontalalignment=\"center\",\n",
        "                 color=\"white\" if cm[i, j] > thresh else \"black\")\n",
        "\n",
        "    plt.tight_layout()\n",
        "    plt.ylabel('True label')\n",
        "    plt.xlabel('Predicted label')\n",
        "\n",
        "\n",
        "##Lets make a confusing Confusion Matrix with SKLearn.\n",
        "import itertools\n",
        "import numpy as np\n",
        "import matplotlib.pyplot as plt\n",
        "\n",
        "from sklearn import svm, datasets\n",
        "from sklearn.model_selection import train_test_split\n",
        "from sklearn.metrics import confusion_matrix\n",
        "\n",
        "pred = model.predict(X_test)\n",
        "classes_pred = np.argmax(pred, axis = 1)\n",
        "\n",
        "# Compute confusion matrix\n",
        "cnf_matrix = confusion_matrix(y_test, classes_pred)\n",
        "np.set_printoptions(precision=2)\n",
        "\n",
        "# Plot non-normalized confusion matrix\n",
        "plt.figure()\n",
        "nonNormalMatrix = plot_confusion_matrix(cnf_matrix, classes=['B','C','Ge','Gi','R'], title='Confusion matrix, without normalization')\n",
        "\n",
        "# Plot normalized confusion matrix\n",
        "plt.figure()\n",
        "normalMatrix = plot_confusion_matrix(cnf_matrix, classes=['b','c','Ge','Gi','r'], normalize=True, title='Normalized confusion matrix')\n",
        "normalMatrix"
      ],
      "execution_count": null,
      "outputs": []
    },
    {
      "cell_type": "code",
      "metadata": {
        "id": "UwP039CdvkDZ",
        "colab_type": "code",
        "colab": {}
      },
      "source": [
        "##We now print a classification report from confusion matrix\n",
        "from sklearn.metrics import classification_report\n",
        "print(classification_report(y_test, classes_pred))"
      ],
      "execution_count": null,
      "outputs": []
    },
    {
      "cell_type": "code",
      "metadata": {
        "id": "czOFHGHqv7-N",
        "colab_type": "code",
        "colab": {}
      },
      "source": [
        "## Now we can do a little plot to see the correlation between the training statistics and the validation statistics. \n",
        "import numpy as np\n",
        "import pandas as pd\n",
        "import matplotlib.pyplot as plt\n",
        "\n",
        "\n",
        "acc = history.history['accuracy']\n",
        "val_acc = history.history['val_accuracy']\n",
        "loss = history.history['loss']\n",
        "val_loss = history.history['val_loss']\n",
        "epochs = range(len(acc))\n",
        "\n",
        "\n",
        "\n",
        "plt.plot(epochs, acc, 'r', label='Training accuracy')\n",
        "plt. plot(epochs, val_acc, 'b', label='Validation accuracy')\n",
        "plt.title('Training and validation accuracy')\n",
        "plt.figure()\n",
        "\n",
        "\n"
      ],
      "execution_count": null,
      "outputs": []
    },
    {
      "cell_type": "code",
      "metadata": {
        "colab_type": "code",
        "id": "sI1YvCDFzpl3",
        "colab": {}
      },
      "source": [
        "# Save the entire model as a SavedModel.\n",
        "!mkdir -p saved_model\n",
        "classifier.save('/content/monomer-new-data/myModel3') "
      ],
      "execution_count": null,
      "outputs": []
    },
    {
      "cell_type": "code",
      "metadata": {
        "id": "Mn4ffM_Bes3t",
        "colab_type": "code",
        "colab": {}
      },
      "source": [
        "## For sake of curiosity, let us run a few variations on our fit function to see if there are any values which optimize accuracy, and waste\n",
        "##some computing power.\n",
        "\n",
        "#batch is the starting batch size for the fit function\n",
        "#n is what the highest batch will reach.\n",
        "\n",
        "#from keras.models import Sequential\n",
        "#from keras.layers import Dense\n",
        "#model = Sequential() \n",
        "#model.add(Dense(units =100, activation = 'relu', input_shape = totalData.shape[1:]))\n",
        "#model.add(Dense(units = 50, activation='relu'))\n",
        "#model.add(Dense(units = 5, activation = 'softmax'))\n",
        "\n",
        "\n",
        "#model.compile(optimizer='rmsprop', loss = 'sparse_categorical_crossentropy', metrics=['accuracy'])\n",
        "\n",
        "#batch = 1\n",
        "#n = 100\n",
        "#while batch <= n:\n",
        "# history = model.fit(X_train, y_train, batch_size = batch, epochs=150, validation_data=(X_test,y_test))\n",
        "# batch = batch + 1"
      ],
      "execution_count": null,
      "outputs": []
    },
    {
      "cell_type": "code",
      "metadata": {
        "id": "8otagb0DLjzi",
        "colab_type": "code",
        "colab": {}
      },
      "source": [
        "# Scale data\n",
        "from sklearn.preprocessing import StandardScaler\n",
        "\n",
        "scaled = StandardScaler()\n",
        "scaled.fit(X_train)\n",
        "\n",
        "X_train_scaled = scaled.transform(X_train)\n",
        "X_test_scaled = scaled.transform(X_test)"
      ],
      "execution_count": 6,
      "outputs": []
    },
    {
      "cell_type": "code",
      "metadata": {
        "id": "HPgKW3ZiL-iH",
        "colab_type": "code",
        "colab": {}
      },
      "source": [
        "## Here we initiate the keras sequential api and use dense layers. The final layer will output with softmax.\n",
        "from keras.models import Sequential\n",
        "from keras.layers import Dense\n",
        "np.random.seed(1701)\n",
        "classifierScaled = Sequential() \n",
        "classifierScaled.add(Dense(units =100, activation = 'relu', input_shape = totalData.shape[1:]))\n",
        "classifierScaled.add(Dense(units = 50, activation='relu', kernel_regularizer=keras.regularizers.l2(0.02)))\n",
        "classifierScaled.add(Dropout(0.10))\n",
        "classifierScaled.add(Dense(units = 5, activation = 'softmax', kernel_regularizer=keras.regularizers.l2(0.02)))"
      ],
      "execution_count": 8,
      "outputs": []
    },
    {
      "cell_type": "code",
      "metadata": {
        "id": "Qs17P32hMnD4",
        "colab_type": "code",
        "colab": {}
      },
      "source": [
        "import math\n",
        "#epoch = 1000\n",
        "#initial_lrate = 1\n",
        "#drop = 0.1\n",
        "#epochs_drop = 60.0\n",
        "#lrate = initial_lrate * math.pow(drop,math.floor((1+epoch)/epochs_drop))\n",
        "\n",
        "#opt = keras.optimizers.rmsprop(lr=lrate)\n",
        "\n",
        "loss_fn = keras.losses.SparseCategoricalCrossentropy()\n",
        "\n",
        "classifierScaled.compile(optimizer='rmsprop', loss =loss_fn, metrics=['accuracy'])"
      ],
      "execution_count": 9,
      "outputs": []
    },
    {
      "cell_type": "code",
      "metadata": {
        "id": "KKT2iBq9M3v2",
        "colab_type": "code",
        "colab": {}
      },
      "source": [
        " history = classifierScaled.fit(X_train, y_train, epochs=550,batch_size=30, validation_data=(X_test,y_test))"
      ],
      "execution_count": null,
      "outputs": []
    },
    {
      "cell_type": "code",
      "metadata": {
        "id": "b_OnrA2uz1wx",
        "colab_type": "code",
        "colab": {}
      },
      "source": [
        "def plot_confusion_matrix(cm, classes,\n",
        "                          normalize=False,\n",
        "                          title='Confusion matrix',\n",
        "                          cmap=plt.cm.Blues):\n",
        "    \"\"\"\n",
        "    This function prints and plots the confusion matrix.\n",
        "    Normalization can be applied by setting `normalize=True`.\n",
        "    \"\"\"\n",
        "    plt.imshow(cm, interpolation='nearest', cmap=cmap)\n",
        "    plt.title(title)\n",
        "    plt.colorbar()\n",
        "    tick_marks = np.arange(len(classes))\n",
        "    plt.xticks(tick_marks, classes, rotation=45)\n",
        "    plt.yticks(tick_marks, classes)\n",
        "\n",
        "    if normalize:\n",
        "        cm = cm.astype('float') / cm.sum(axis=1)[:, np.newaxis]\n",
        "        print(\"Normalized confusion matrix\")\n",
        "    else:\n",
        "        print('Confusion matrix, without normalization')\n",
        "\n",
        "    print(cm)\n",
        "\n",
        "    thresh = cm.max() / 2.\n",
        "    for i, j in itertools.product(range(cm.shape[0]), range(cm.shape[1])):\n",
        "        plt.text(j, i, cm[i, j],\n",
        "                 horizontalalignment=\"center\",\n",
        "                 color=\"white\" if cm[i, j] > thresh else \"black\")\n",
        "\n",
        "    plt.tight_layout()\n",
        "    plt.ylabel('True label')\n",
        "    plt.xlabel('Predicted label')"
      ],
      "execution_count": 11,
      "outputs": []
    },
    {
      "cell_type": "code",
      "metadata": {
        "id": "onkvoLh4z576",
        "colab_type": "code",
        "colab": {}
      },
      "source": [
        "##Lets make a confusing Confusion Matrix with SKLearn.\n",
        "import itertools\n",
        "import numpy as np\n",
        "import matplotlib.pyplot as plt\n",
        "\n",
        "from sklearn import svm, datasets\n",
        "from sklearn.model_selection import train_test_split\n",
        "from sklearn.metrics import confusion_matrix\n",
        "\n",
        "pred = classifierScaled.predict(X_test)\n",
        "classes_pred = np.argmax(pred, axis = 1)\n",
        "\n",
        "# Compute confusion matrix\n",
        "cnf_matrix = confusion_matrix(y_test, classes_pred)\n",
        "np.set_printoptions(precision=2)\n",
        "\n",
        "# Plot non-normalized confusion matrix\n",
        "plt.figure()\n",
        "nonNormalMatrix = plot_confusion_matrix(cnf_matrix, classes=['B','C','Ge','Gi','R'], title='Confusion matrix, without normalization')\n",
        "\n",
        "# Plot normalized confusion matrix\n",
        "plt.figure()\n",
        "normalMatrix = plot_confusion_matrix(cnf_matrix, classes=['b','c','Ge','Gi','r'], normalize=True, title='Normalized confusion matrix')\n",
        "normalMatrix"
      ],
      "execution_count": null,
      "outputs": []
    },
    {
      "cell_type": "code",
      "metadata": {
        "id": "Dy9C07gvDnYt",
        "colab_type": "code",
        "colab": {}
      },
      "source": [
        "##We now print a classification report from confusion matrix\n",
        "from sklearn.metrics import classification_report\n",
        "print(classification_report(y_test, classes_pred))"
      ],
      "execution_count": null,
      "outputs": []
    },
    {
      "cell_type": "code",
      "metadata": {
        "id": "UcqHchj4Ds8F",
        "colab_type": "code",
        "colab": {}
      },
      "source": [
        "## Now we can do a little plot to see the correlation between the training statistics and the validation statistics. \n",
        "import numpy as np\n",
        "import pandas as pd\n",
        "import matplotlib.pyplot as plt\n",
        "\n",
        "\n",
        "acc = history.history['accuracy']\n",
        "val_acc = history.history['val_accuracy']\n",
        "loss = history.history['loss']\n",
        "val_loss = history.history['val_loss']\n",
        "epochs = range(len(acc))\n",
        "\n",
        "\n",
        "\n",
        "plt.plot(epochs, acc, 'r', label='Training accuracy')\n",
        "plt. plot(epochs, val_acc, 'b', label='Validation accuracy')\n",
        "plt.title('Training and validation accuracy')\n",
        "plt.figure()"
      ],
      "execution_count": null,
      "outputs": []
    },
    {
      "cell_type": "markdown",
      "metadata": {
        "id": "ZLGsgQ--n7Zi",
        "colab_type": "text"
      },
      "source": [
        "# 2. PCA with our raw monomer coordinates"
      ]
    },
    {
      "cell_type": "code",
      "metadata": {
        "id": "wi_xoHTeKH-H",
        "colab_type": "code",
        "colab": {}
      },
      "source": [
        "## We need to scale this data accordingly.\n",
        "#data = scale(totalData)\n",
        "data = totalData"
      ],
      "execution_count": null,
      "outputs": []
    },
    {
      "cell_type": "code",
      "metadata": {
        "id": "v8z-Pl4UKdbf",
        "colab_type": "code",
        "colab": {}
      },
      "source": [
        "## We can now perform a PCA decomposition down to about 10 components.\n",
        "pca = decomposition.PCA(n_components=10)\n",
        "pca.fit(data)"
      ],
      "execution_count": null,
      "outputs": []
    },
    {
      "cell_type": "code",
      "metadata": {
        "id": "hGsF9pGlK1Ay",
        "colab_type": "code",
        "colab": {}
      },
      "source": [
        "scores = pca.transform(data)"
      ],
      "execution_count": null,
      "outputs": []
    },
    {
      "cell_type": "code",
      "metadata": {
        "id": "5BKQn6DuLD-j",
        "colab_type": "code",
        "colab": {}
      },
      "source": [
        "## Put the scores into a readable dataframe. All the components will be shown.\n",
        "scoresDataframe = pd.DataFrame(scores, columns=['PC1', 'PC2', 'PC3', 'PC4', 'PC5', 'PC6', 'PC7', 'PC8', 'PC9', 'PC10'])\n",
        "\n",
        "\n",
        "##Lets append the labels on the PCA dataframe. $$$ B = 0 C = 1 Ge = 2 Gi = 3 $$$\n",
        "df =totalAnswers\n",
        "scoresDataframe = scoresDataframe.reset_index(drop=True)\n",
        "df = df.reset_index(drop=True)\n",
        "\n",
        "scoresDataframe.loc[:,'labels'] = df\n",
        "scoresDataframe"
      ],
      "execution_count": null,
      "outputs": []
    },
    {
      "cell_type": "code",
      "metadata": {
        "id": "SAG5TsucSo6P",
        "colab_type": "code",
        "colab": {}
      },
      "source": [
        "explained_variance = pca.explained_variance_ratio_\n",
        "explained_variance\n",
        "\n",
        "explainedVariance = np.insert(explained_variance,0,0)\n",
        "cumulativeVariance = np.cumsum(np.round(explainedVariance, decimals=6))"
      ],
      "execution_count": null,
      "outputs": []
    },
    {
      "cell_type": "code",
      "metadata": {
        "id": "UYCJjfreTZ3d",
        "colab_type": "code",
        "colab": {}
      },
      "source": [
        "pcChart = pd.DataFrame(['','PC1', 'PC2', 'PC3', 'PC4', 'PC5', 'PC6', 'PC7', 'PC8', 'PC9', 'PC10'], columns=['PC'])\n",
        "explainedVarianceDataframe = pd.DataFrame(explainedVariance, columns=['Explained Variance'])\n",
        "cumulativeVarianceDataframe = pd.DataFrame(cumulativeVariance, columns=['Cumulative Variance'])\n",
        "\n",
        "pcaCombinedDf = pd.concat([pcChart, explainedVarianceDataframe, cumulativeVarianceDataframe], axis=1)\n",
        "pcaCombinedDf"
      ],
      "execution_count": null,
      "outputs": []
    },
    {
      "cell_type": "markdown",
      "metadata": {
        "id": "FyE0ivEWUfKd",
        "colab_type": "text"
      },
      "source": [
        "Lets make some plots of the PCA components.\n"
      ]
    },
    {
      "cell_type": "code",
      "metadata": {
        "id": "QhqPxBuZUxJ4",
        "colab_type": "code",
        "colab": {}
      },
      "source": [
        "from plotly.subplots import make_subplots\n",
        "import plotly.graph_objects as go\n",
        "\n",
        "fig = make_subplots(rows=1, cols=2)\n",
        "\n",
        "#This is the line graph\n",
        "fig.add_trace(go.Scatter(x=pcaCombinedDf['PC'], y=pcaCombinedDf['Cumulative Variance'], marker=dict(size=10, color=\"LightSeaGreen\")), row=1, col=1)\n",
        "\n",
        "#This is the bar graph\n",
        "fig.add_trace(go.Bar(x=pcaCombinedDf['PC'], y=pcaCombinedDf['Explained Variance'],marker=dict(color=\"RoyalBlue\"),), row=1, col=2)\n",
        "\n",
        "\n",
        "fig.update_layout(\n",
        "    title=\"PCA stats\",\n",
        "    xaxis_title=\"PCA number\",\n",
        "    yaxis_title=\"Percentage\",\n",
        "    font=dict(family=\"Times New Roman, monospace\", size=11))\n",
        "fig.show()"
      ],
      "execution_count": null,
      "outputs": []
    },
    {
      "cell_type": "code",
      "metadata": {
        "id": "YRwh3yJ2VMfk",
        "colab_type": "code",
        "colab": {}
      },
      "source": [
        "import plotly.express as px\n",
        "\n",
        "fig = px.scatter(scoresDataframe, x='PC1', y='PC2', color='labels')\n",
        "\n",
        "fig.show()"
      ],
      "execution_count": null,
      "outputs": []
    },
    {
      "cell_type": "markdown",
      "metadata": {
        "id": "bhF7x49AecQt",
        "colab_type": "text"
      },
      "source": [
        "Lets do the same PCA but with B, C, Ge, Gi only."
      ]
    },
    {
      "cell_type": "code",
      "metadata": {
        "id": "oyHg_XGkehQ6",
        "colab_type": "code",
        "colab": {}
      },
      "source": [
        "##This will run as one cell to create the new plot.\n",
        "\n",
        "bData = pd.read_csv('/content/monomer-new-data/b-config.csv', header=None)\n",
        "cData = pd.read_csv('/content/monomer-new-data/c-config.csv', header=None)\n",
        "geData = pd.read_csv('/content/monomer-new-data/ge-config.csv', header=None)\n",
        "giData = pd.read_csv('/content/monomer-new-data/gi-config.csv', header=None)\n",
        "\n",
        "##Read in the \"answers\" for the monomer types. B = 0, C = 1, Ge = 2, Gi = 3 for our case\n",
        "bAnswers = pd.read_csv('/content/monomer-new-data/Answers/b-labels.csv', header = None)\n",
        "cAnswers = pd.read_csv('/content/monomer-new-data/Answers/c-labels.csv', header = None)\n",
        "geAnswers = pd.read_csv('/content/monomer-new-data/Answers/ge-labels.csv', header=None)\n",
        "giAnswers = pd.read_csv('/content/monomer-new-data/Answers/gi-labels.csv', header=None)\n",
        "\n",
        "##Now we shall concat, respectivly, the Data & Answers\n",
        "totalData = pd.concat([bData, cData, geData, giData])\n",
        "totalAnswers = pd.concat([bAnswers, cAnswers, geAnswers, giAnswers])\n",
        "\n",
        "data = totalData\n",
        "\n",
        "pca = decomposition.PCA(n_components=10)\n",
        "pca.fit(data)\n",
        "\n",
        "scores = pca.transform(data)\n",
        "\n",
        "scoresDataframe = pd.DataFrame(scores, columns=['PC1', 'PC2', 'PC3', 'PC4', 'PC5', 'PC6', 'PC7', 'PC8', 'PC9', 'PC10'])\n",
        "\n",
        "df =totalAnswers\n",
        "scoresDataframe = scoresDataframe.reset_index(drop=True)\n",
        "df = df.reset_index(drop=True)\n",
        "\n",
        "scoresDataframe.loc[:,'labels'] = df\n",
        "\n",
        "explained_variance = pca.explained_variance_ratio_\n",
        "\n",
        "explainedVariance = np.insert(explained_variance,0,0)\n",
        "cumulativeVariance = np.cumsum(np.round(explainedVariance, decimals=6))\n",
        "\n",
        "pcChart = pd.DataFrame(['','PC1', 'PC2', 'PC3', 'PC4', 'PC5', 'PC6', 'PC7', 'PC8', 'PC9', 'PC10'], columns=['PC'])\n",
        "explainedVarianceDataframe = pd.DataFrame(explainedVariance, columns=['Explained Variance'])\n",
        "cumulativeVarianceDataframe = pd.DataFrame(cumulativeVariance, columns=['Cumulative Variance'])\n",
        "\n",
        "pcaCombinedDf = pd.concat([pcChart, explainedVarianceDataframe, cumulativeVarianceDataframe], axis=1)"
      ],
      "execution_count": null,
      "outputs": []
    },
    {
      "cell_type": "code",
      "metadata": {
        "id": "C9K54k2KfTov",
        "colab_type": "code",
        "colab": {}
      },
      "source": [
        "from plotly.subplots import make_subplots\n",
        "import plotly.graph_objects as go\n",
        "\n",
        "fig = make_subplots(rows=1, cols=2)\n",
        "\n",
        "#This is the line graph\n",
        "fig.add_trace(go.Scatter(x=pcaCombinedDf['PC'], y=pcaCombinedDf['Cumulative Variance'], marker=dict(size=10, color=\"LightSeaGreen\")), row=1, col=1)\n",
        "\n",
        "#This is the bar graph\n",
        "fig.add_trace(go.Bar(x=pcaCombinedDf['PC'], y=pcaCombinedDf['Explained Variance'],marker=dict(color=\"RoyalBlue\"),), row=1, col=2)\n",
        "\n",
        "\n",
        "fig.update_layout(\n",
        "    title=\"PCA stats\",\n",
        "    xaxis_title=\"PCA number\",\n",
        "    yaxis_title=\"Percentage\",\n",
        "    font=dict(family=\"Times New Roman, monospace\", size=11))\n",
        "fig.show()"
      ],
      "execution_count": null,
      "outputs": []
    },
    {
      "cell_type": "code",
      "metadata": {
        "id": "xrBNLe7nfduq",
        "colab_type": "code",
        "colab": {}
      },
      "source": [
        "import plotly.express as px\n",
        "\n",
        "fig = px.scatter(scoresDataframe, x='PC1', y='PC2', color='labels', title=\"PCA. This does not include the 'R' type, or scaling.\")\n",
        "\n",
        "fig.show()"
      ],
      "execution_count": null,
      "outputs": []
    },
    {
      "cell_type": "markdown",
      "metadata": {
        "id": "12VXduB9B6j2",
        "colab_type": "text"
      },
      "source": [
        "# 3. Keras for supervised learning on centre of mass monomer coordinates. We will be subtracting the average of all x, y, z from each component."
      ]
    },
    {
      "cell_type": "code",
      "metadata": {
        "id": "7phfXD9NFX7F",
        "colab_type": "code",
        "colab": {}
      },
      "source": [
        "##Now we attempt to consider the coordinates with 'centre of mass'.\n",
        "\n",
        "#Clunky, but here we read each different type of monomer into a pandas df.\n",
        "bData = pd.read_csv('/content/polymer-ML-research/centre-of-mass modified coordinates/b-config-centre.csv', header=None)\n",
        "cData = pd.read_csv('/content/polymer-ML-research/centre-of-mass modified coordinates/c-config-centre.csv', header=None)\n",
        "geData = pd.read_csv('/content/polymer-ML-research/centre-of-mass modified coordinates/ge-config-centre.csv', header=None)\n",
        "giData = pd.read_csv('/content/polymer-ML-research/centre-of-mass modified coordinates/gi-config-centre.csv', header=None)\n",
        "rData = pd.read_csv('/content/polymer-ML-research/centre-of-mass modified coordinates/r-config-centre.csv', header=None)\n",
        "\n",
        "##Read in the \"answers\" for the monomer types. B = 0, C = 1, Ge = 2, Gi = 3 for our case\n",
        "bAnswers = pd.read_csv('/content/polymer-ML-research/Answers/b-labels.csv', header = None)\n",
        "cAnswers = pd.read_csv('/content/polymer-ML-research/Answers/c-labels.csv', header = None)\n",
        "geAnswers = pd.read_csv('/content/polymer-ML-research/Answers/ge-labels.csv', header=None)\n",
        "giAnswers = pd.read_csv('/content/polymer-ML-research/Answers/gi-labels.csv', header=None)\n",
        "rAnswers = pd.read_csv('/content/polymer-ML-research/Answers/r-labels.csv', header=None)\n",
        "\n",
        "#Now we shall concat, respectivly, the Data & Answers\n",
        "totalData = pd.concat([bData, cData, geData, giData, rData])\n",
        "totalAnswers = pd.concat([bAnswers, cAnswers, geAnswers, giAnswers, rAnswers])"
      ],
      "execution_count": null,
      "outputs": []
    },
    {
      "cell_type": "code",
      "metadata": {
        "id": "sFHoAFXZwoLM",
        "colab_type": "code",
        "colab": {}
      },
      "source": [
        "##Using SKlearn for splitting test and training into 33% testing and the rest for training.\n",
        "X_train, X_test, y_train, y_test = sklearn.model_selection.train_test_split(totalData, totalAnswers, test_size=0.33, random_state=101)\n",
        "\n",
        "## Here we initiate the keras sequential api and use dense layers. The final layer will output with softmax.\n",
        "from keras.models import Sequential\n",
        "from keras.layers import Dense\n",
        "np.random.seed(1701)\n",
        "centreMassModel = Sequential() \n",
        "centreMassModel.add(Dense(units =100, activation = 'relu', input_shape = totalData.shape[1:]))\n",
        "centreMassModel.add(Dense(units = 100, activation='relu', kernel_regularizer=keras.regularizers.l2(0.03)))\n",
        "centreMassModel.add(Dense(units = 5, activation = 'softmax', kernel_regularizer=keras.regularizers.l2(0.02)))\n",
        "\n",
        "import math\n",
        "epoch = 550\n",
        "#initial_lrate = 1\n",
        "#drop = 0.1\n",
        "#epochs_drop = 60.0\n",
        "#lrate = initial_lrate * math.pow(drop,math.floor((1+epoch)/epochs_drop))\n",
        "\n",
        "#opt = keras.optimizers.rmsprop(lr=lrate)\n",
        "\n",
        "loss_fn = keras.losses.SparseCategoricalCrossentropy()\n",
        "\n",
        "centreMassModel.compile(optimizer='rmsprop', loss =loss_fn, metrics=['accuracy'])"
      ],
      "execution_count": null,
      "outputs": []
    },
    {
      "cell_type": "code",
      "metadata": {
        "id": "nI1Om_3IxJm7",
        "colab_type": "code",
        "colab": {}
      },
      "source": [
        "history = centreMassModel.fit(X_train, y_train, epochs=epoch,batch_size=30, validation_data=(X_test,y_test))"
      ],
      "execution_count": null,
      "outputs": []
    },
    {
      "cell_type": "code",
      "metadata": {
        "id": "BipAbycY0fCA",
        "colab_type": "code",
        "colab": {}
      },
      "source": [
        "%reset"
      ],
      "execution_count": null,
      "outputs": []
    },
    {
      "cell_type": "code",
      "metadata": {
        "id": "mhElNbmOxqXx",
        "colab_type": "code",
        "colab": {}
      },
      "source": [
        "def plot_confusion_matrix(cm, classes,\n",
        "                          normalize=False,\n",
        "                          title='Confusion matrix',\n",
        "                          cmap=plt.cm.Blues):\n",
        "    \"\"\"\n",
        "    This function prints and plots the confusion matrix.\n",
        "    Normalization can be applied by setting `normalize=True`.\n",
        "    \"\"\"\n",
        "    plt.imshow(cm, interpolation='nearest', cmap=cmap)\n",
        "    plt.title(title)\n",
        "    plt.colorbar()\n",
        "    tick_marks = np.arange(len(classes))\n",
        "    plt.xticks(tick_marks, classes, rotation=45)\n",
        "    plt.yticks(tick_marks, classes)\n",
        "\n",
        "    if normalize:\n",
        "        cm = cm.astype('float') / cm.sum(axis=1)[:, np.newaxis]\n",
        "        print(\"Normalized confusion matrix\")\n",
        "    else:\n",
        "        print('Confusion matrix, without normalization')\n",
        "\n",
        "    print(cm)\n",
        "\n",
        "    thresh = cm.max() / 2.\n",
        "    for i, j in itertools.product(range(cm.shape[0]), range(cm.shape[1])):\n",
        "        plt.text(j, i, cm[i, j],\n",
        "                 horizontalalignment=\"center\",\n",
        "                 color=\"white\" if cm[i, j] > thresh else \"black\")\n",
        "\n",
        "    plt.tight_layout()\n",
        "    plt.ylabel('True label')\n",
        "    plt.xlabel('Predicted label')"
      ],
      "execution_count": null,
      "outputs": []
    },
    {
      "cell_type": "markdown",
      "metadata": {
        "id": "GKM5Q42wxyf3",
        "colab_type": "text"
      },
      "source": [
        "Below we will plot a confusing confusion matrix to show the true postives and negatives for the centre of mass modified monomer files."
      ]
    },
    {
      "cell_type": "code",
      "metadata": {
        "id": "A93SUhbvxsUL",
        "colab_type": "code",
        "colab": {}
      },
      "source": [
        "##Lets make a confusing Confusion Matrix with SKLearn.\n",
        "import itertools\n",
        "import numpy as np\n",
        "import matplotlib.pyplot as plt\n",
        "\n",
        "from sklearn import svm, datasets\n",
        "from sklearn.model_selection import train_test_split\n",
        "from sklearn.metrics import confusion_matrix\n",
        "\n",
        "pred = centreMassModel.predict(X_test)\n",
        "classes_pred = np.argmax(pred, axis = 1)\n",
        "\n",
        "# Compute confusion matrix\n",
        "cnf_matrix = confusion_matrix(y_test, classes_pred)\n",
        "np.set_printoptions(precision=2)\n",
        "\n",
        "# Plot non-normalized confusion matrix\n",
        "plt.figure()\n",
        "nonNormalMatrix = plot_confusion_matrix(cnf_matrix, classes=['B','C','Ge','Gi','R'], title='Confusion matrix, without normalization')\n",
        "\n",
        "# Plot normalized confusion matrix\n",
        "plt.figure()\n",
        "normalMatrix = plot_confusion_matrix(cnf_matrix, classes=['b','c','Ge','Gi','r'], normalize=True, title='Normalized confusion matrix')\n",
        "normalMatrix"
      ],
      "execution_count": null,
      "outputs": []
    },
    {
      "cell_type": "code",
      "metadata": {
        "id": "K9qQtwGxyFis",
        "colab_type": "code",
        "colab": {}
      },
      "source": [
        "##We now print a classification report from confusion matrix\n",
        "from sklearn.metrics import classification_report\n",
        "print(classification_report(y_test, classes_pred))"
      ],
      "execution_count": null,
      "outputs": []
    },
    {
      "cell_type": "code",
      "metadata": {
        "id": "ULMWl7LAyKNL",
        "colab_type": "code",
        "colab": {}
      },
      "source": [
        "## Now we can do a little plot to see the correlation between the training statistics and the validation statistics. \n",
        "import numpy as np\n",
        "import pandas as pd\n",
        "import matplotlib.pyplot as plt\n",
        "\n",
        "\n",
        "acc = history.history['accuracy']\n",
        "val_acc = history.history['val_accuracy']\n",
        "loss = history.history['loss']\n",
        "val_loss = history.history['val_loss']\n",
        "epochs = range(len(acc))\n",
        "\n",
        "plt.plot(epochs, acc, 'r', label='Training accuracy')\n",
        "plt. plot(epochs, val_acc, 'b', label='Validation accuracy')\n",
        "plt.title('Training and validation accuracy')\n",
        "plt.figure()"
      ],
      "execution_count": null,
      "outputs": []
    },
    {
      "cell_type": "code",
      "metadata": {
        "id": "KP0PN4laz8mc",
        "colab_type": "code",
        "colab": {}
      },
      "source": [
        "# Save the entire model as a SavedModel.\n",
        "!mkdir -p saved_model\n",
        "classifier.save('/content/monomer-new-data/centre-of-mass-monomer-model') "
      ],
      "execution_count": null,
      "outputs": []
    },
    {
      "cell_type": "markdown",
      "metadata": {
        "id": "JpvEnSvG0xcS",
        "colab_type": "text"
      },
      "source": [
        "Now lets do the same thing, but without R."
      ]
    },
    {
      "cell_type": "code",
      "metadata": {
        "id": "-IOo5wH50z97",
        "colab_type": "code",
        "colab": {}
      },
      "source": [
        "##Now we attempt to consider the coordinates with 'centre of mass'.\n",
        "\n",
        "#Clunky, but here we read each different type of monomer into a pandas df.\n",
        "bData = pd.read_csv('/content/monomer-new-data/centre-of-mass-monomer-config/b-config-centre.csv', header=None)\n",
        "cData = pd.read_csv('/content/monomer-new-data/centre-of-mass-monomer-config/c-config-centre.csv', header=None)\n",
        "geData = pd.read_csv('/content/monomer-new-data/centre-of-mass-monomer-config/ge-config-centre.csv', header=None)\n",
        "giData = pd.read_csv('/content/monomer-new-data/centre-of-mass-monomer-config/gi-config-centre.csv', header=None)\n",
        "\n",
        "#Read in the \"answers\" for the monomer types. B = 0, C = 1, Ge = 2, Gi = 3 for our case\n",
        "bAnswers = pd.read_csv('/content/monomer-new-data/Answers/b-labels.csv', header = None)\n",
        "cAnswers = pd.read_csv('/content/monomer-new-data/Answers/c-labels.csv', header = None)\n",
        "geAnswers = pd.read_csv('/content/monomer-new-data/Answers/ge-labels.csv', header=None)\n",
        "giAnswers = pd.read_csv('/content/monomer-new-data/Answers/gi-labels.csv', header=None)\n",
        "\n",
        "#Now we shall concat, respectivly, the Data & Answers\n",
        "totalData = pd.concat([bData, cData, geData, giData])\n",
        "totalAnswers = pd.concat([bAnswers, cAnswers, geAnswers, giAnswers])\n",
        "\n",
        "##Using SKlearn for splitting test and training into 33% testing and the rest for training.\n",
        "X_train, X_test, y_train, y_test = sklearn.model_selection.train_test_split(totalData, totalAnswers, test_size=0.33, random_state=101)\n",
        "\n",
        "## Here we initiate the keras sequential api and use dense layers. The final layer will output with softmax.\n",
        "from keras.models import Sequential\n",
        "from keras.layers import Dense\n",
        "np.random.seed(1701)\n",
        "centreMassModelNoR = Sequential() \n",
        "centreMassModelNoR.add(Dense(units =100, activation = 'relu', input_shape = totalData.shape[1:]))\n",
        "centreMassModelNoR.add(Dense(units = 50, activation='relu'))\n",
        "centreMassModelNoR.add(Dense(units = 5, activation = 'softmax', kernel_regularizer='l2'))\n",
        "\n",
        "import math\n",
        "epoch = 550\n",
        "#initial_lrate = 1\n",
        "#drop = 0.1\n",
        "#epochs_drop = 60.0\n",
        "#lrate = initial_lrate * math.pow(drop,math.floor((1+epoch)/epochs_drop))\n",
        "\n",
        "#opt = keras.optimizers.rmsprop(lr=lrate)\n",
        "\n",
        "loss_fn = keras.losses.SparseCategoricalCrossentropy()\n",
        "\n",
        "centreMassModelNoR.compile(optimizer='rmsprop', loss =loss_fn, metrics=['accuracy'])"
      ],
      "execution_count": null,
      "outputs": []
    },
    {
      "cell_type": "code",
      "metadata": {
        "id": "JMntdYPK08e1",
        "colab_type": "code",
        "colab": {}
      },
      "source": [
        "history = centreMassModelNoR.fit(X_train, y_train, epochs=epoch,batch_size=30, validation_data=(X_test,y_test))"
      ],
      "execution_count": null,
      "outputs": []
    },
    {
      "cell_type": "code",
      "metadata": {
        "id": "jqQ79vMy1xmr",
        "colab_type": "code",
        "colab": {}
      },
      "source": [
        "def plot_confusion_matrix(cm, classes,\n",
        "                          normalize=False,\n",
        "                          title='Confusion matrix',\n",
        "                          cmap=plt.cm.Blues):\n",
        "    \"\"\"\n",
        "    This function prints and plots the confusion matrix.\n",
        "    Normalization can be applied by setting `normalize=True`.\n",
        "    \"\"\"\n",
        "    plt.imshow(cm, interpolation='nearest', cmap=cmap)\n",
        "    plt.title(title)\n",
        "    plt.colorbar()\n",
        "    tick_marks = np.arange(len(classes))\n",
        "    plt.xticks(tick_marks, classes, rotation=45)\n",
        "    plt.yticks(tick_marks, classes)\n",
        "\n",
        "    if normalize:\n",
        "        cm = cm.astype('float') / cm.sum(axis=1)[:, np.newaxis]\n",
        "        print(\"Normalized confusion matrix\")\n",
        "    else:\n",
        "        print('Confusion matrix, without normalization')\n",
        "\n",
        "    print(cm)\n",
        "\n",
        "    thresh = cm.max() / 2.\n",
        "    for i, j in itertools.product(range(cm.shape[0]), range(cm.shape[1])):\n",
        "        plt.text(j, i, cm[i, j],\n",
        "                 horizontalalignment=\"center\",\n",
        "                 color=\"white\" if cm[i, j] > thresh else \"black\")\n",
        "\n",
        "    plt.tight_layout()\n",
        "    plt.ylabel('True label')\n",
        "    plt.xlabel('Predicted label')"
      ],
      "execution_count": null,
      "outputs": []
    },
    {
      "cell_type": "code",
      "metadata": {
        "id": "lpId057o1027",
        "colab_type": "code",
        "colab": {}
      },
      "source": [
        "##Lets make a confusing Confusion Matrix with SKLearn.\n",
        "import itertools\n",
        "import numpy as np\n",
        "import matplotlib.pyplot as plt\n",
        "\n",
        "from sklearn import svm, datasets\n",
        "from sklearn.model_selection import train_test_split\n",
        "from sklearn.metrics import confusion_matrix\n",
        "\n",
        "pred = centreMassModelNoR.predict(X_test)\n",
        "classes_pred = np.argmax(pred, axis = 1)\n",
        "\n",
        "# Compute confusion matrix\n",
        "cnf_matrix = confusion_matrix(y_test, classes_pred)\n",
        "np.set_printoptions(precision=2)\n",
        "\n",
        "# Plot non-normalized confusion matrix\n",
        "plt.figure()\n",
        "nonNormalMatrix = plot_confusion_matrix(cnf_matrix, classes=['B','C','Ge','Gi','R'], title='Confusion matrix, without normalization')\n",
        "\n",
        "# Plot normalized confusion matrix\n",
        "plt.figure()\n",
        "normalMatrix = plot_confusion_matrix(cnf_matrix, classes=['b','c','Ge','Gi','r'], normalize=True, title='Normalized confusion matrix')\n",
        "normalMatrix"
      ],
      "execution_count": null,
      "outputs": []
    },
    {
      "cell_type": "code",
      "metadata": {
        "id": "sDT0rVPd2IBH",
        "colab_type": "code",
        "colab": {}
      },
      "source": [
        "##We now print a classification report from confusion matrix\n",
        "from sklearn.metrics import classification_report\n",
        "print(classification_report(y_test, classes_pred))"
      ],
      "execution_count": null,
      "outputs": []
    },
    {
      "cell_type": "code",
      "metadata": {
        "id": "dmz2sKEz2LfE",
        "colab_type": "code",
        "colab": {}
      },
      "source": [
        "## Now we can do a little plot to see the correlation between the training statistics and the validation statistics. \n",
        "import numpy as np\n",
        "import pandas as pd\n",
        "import matplotlib.pyplot as plt\n",
        "\n",
        "acc = history.history['accuracy']\n",
        "val_acc = history.history['val_accuracy']\n",
        "loss = history.history['loss']\n",
        "val_loss = history.history['val_loss']\n",
        "epochs = range(len(acc))\n",
        "\n",
        "plt.plot(epochs, acc, 'r', label='Training accuracy')\n",
        "plt. plot(epochs, val_acc, 'b', label='Validation accuracy')\n",
        "plt.title('Training and validation accuracy')\n",
        "plt.figure()"
      ],
      "execution_count": null,
      "outputs": []
    },
    {
      "cell_type": "code",
      "metadata": {
        "id": "YuaCWbRK2Q87",
        "colab_type": "code",
        "colab": {}
      },
      "source": [
        "# Save the entire model as a SavedModel.\n",
        "!mkdir -p saved_model\n",
        "classifier.save('/content/monomer-new-data/centre-of-mass-monomer-no-R-model') "
      ],
      "execution_count": null,
      "outputs": []
    },
    {
      "cell_type": "markdown",
      "metadata": {
        "id": "P2udfUrX3ZXx",
        "colab_type": "text"
      },
      "source": [
        "# 4. PCA for centre of mass coordinates"
      ]
    },
    {
      "cell_type": "code",
      "metadata": {
        "id": "Q7dgqsXb3omT",
        "colab_type": "code",
        "colab": {}
      },
      "source": [
        "##Now we attempt to consider the coordinates with 'centre of mass'.\n",
        "\n",
        "#Clunky, but here we read each different type of monomer into a pandas df.\n",
        "bData = pd.read_csv('/content/monomer-new-data/centre-of-mass-monomer-config/b-config-centre.csv', header=None)\n",
        "cData = pd.read_csv('/content/monomer-new-data/centre-of-mass-monomer-config/c-config-centre.csv', header=None)\n",
        "geData = pd.read_csv('/content/monomer-new-data/centre-of-mass-monomer-config/ge-config-centre.csv', header=None)\n",
        "giData = pd.read_csv('/content/monomer-new-data/centre-of-mass-monomer-config/gi-config-centre.csv', header=None)\n",
        "rData = pd.read_csv('/content/monomer-new-data/centre-of-mass-monomer-config/r-config-centre.csv', header=None)\n",
        "\n",
        "#Read in the \"answers\" for the monomer types. B = 0, C = 1, Ge = 2, Gi = 3 for our case\n",
        "bAnswers = pd.read_csv('/content/monomer-new-data/Answers/b-labels.csv', header = None)\n",
        "cAnswers = pd.read_csv('/content/monomer-new-data/Answers/c-labels.csv', header = None)\n",
        "geAnswers = pd.read_csv('/content/monomer-new-data/Answers/ge-labels.csv', header=None)\n",
        "giAnswers = pd.read_csv('/content/monomer-new-data/Answers/gi-labels.csv', header=None)\n",
        "rAnswers = pd.read_csv('/content/monomer-new-data/Answers/r-labels.csv', header=None)\n",
        "\n",
        "#Now we shall concat, respectivly, the Data & Answers\n",
        "totalData = pd.concat([bData, cData, geData, giData, rData])\n",
        "totalAnswers = pd.concat([bAnswers, cAnswers, geAnswers, giAnswers, rAnswers])\n",
        "\n",
        "\n",
        "## We need to scale this data accordingly.\n",
        "#data = scale(totalData)\n",
        "data = totalData"
      ],
      "execution_count": null,
      "outputs": []
    },
    {
      "cell_type": "code",
      "metadata": {
        "id": "ZSOyKD4Q3-_0",
        "colab_type": "code",
        "colab": {}
      },
      "source": [
        "## We can now perform a PCA decomposition down to about 10 components.\n",
        "pca = decomposition.PCA(n_components=10)\n",
        "pca.fit(data)"
      ],
      "execution_count": null,
      "outputs": []
    },
    {
      "cell_type": "code",
      "metadata": {
        "id": "QUAEm66V4CXd",
        "colab_type": "code",
        "colab": {}
      },
      "source": [
        "scores = pca.transform(data)\n",
        "\n",
        "## Put the scores into a readable dataframe. All the components will be shown.\n",
        "scoresDataframe = pd.DataFrame(scores, columns=['PC1', 'PC2', 'PC3', 'PC4', 'PC5', 'PC6', 'PC7', 'PC8', 'PC9', 'PC10'])\n",
        "\n",
        "\n",
        "##Lets append the labels on the PCA dataframe. $$$ B = 0 C = 1 Ge = 2 Gi = 3 $$$\n",
        "df =totalAnswers\n",
        "scoresDataframe = scoresDataframe.reset_index(drop=True)\n",
        "df = df.reset_index(drop=True)\n",
        "\n",
        "scoresDataframe.loc[:,'labels'] = df\n",
        "scoresDataframe"
      ],
      "execution_count": null,
      "outputs": []
    },
    {
      "cell_type": "code",
      "metadata": {
        "id": "r7_TnFWk4PjF",
        "colab_type": "code",
        "colab": {}
      },
      "source": [
        "explained_variance = pca.explained_variance_ratio_\n",
        "explained_variance\n",
        "\n",
        "explainedVariance = np.insert(explained_variance,0,0)\n",
        "cumulativeVariance = np.cumsum(np.round(explainedVariance, decimals=6))\n",
        "\n",
        "pcChart = pd.DataFrame(['','PC1', 'PC2', 'PC3', 'PC4', 'PC5', 'PC6', 'PC7', 'PC8', 'PC9', 'PC10'], columns=['PC'])\n",
        "explainedVarianceDataframe = pd.DataFrame(explainedVariance, columns=['Explained Variance'])\n",
        "cumulativeVarianceDataframe = pd.DataFrame(cumulativeVariance, columns=['Cumulative Variance'])\n",
        "\n",
        "pcaCombinedDf = pd.concat([pcChart, explainedVarianceDataframe, cumulativeVarianceDataframe], axis=1)\n",
        "pcaCombinedDf"
      ],
      "execution_count": null,
      "outputs": []
    },
    {
      "cell_type": "code",
      "metadata": {
        "id": "U89U673A4Y-r",
        "colab_type": "code",
        "colab": {}
      },
      "source": [
        "from plotly.subplots import make_subplots\n",
        "import plotly.graph_objects as go\n",
        "\n",
        "fig = make_subplots(rows=1, cols=2)\n",
        "\n",
        "#This is the line graph\n",
        "fig.add_trace(go.Scatter(x=pcaCombinedDf['PC'], y=pcaCombinedDf['Cumulative Variance'], marker=dict(size=10, color=\"LightSeaGreen\")), row=1, col=1)\n",
        "\n",
        "#This is the bar graph\n",
        "fig.add_trace(go.Bar(x=pcaCombinedDf['PC'], y=pcaCombinedDf['Explained Variance'],marker=dict(color=\"RoyalBlue\"),), row=1, col=2)\n",
        "\n",
        "\n",
        "fig.update_layout(\n",
        "    title=\"PCA stats\",\n",
        "    xaxis_title=\"PCA number\",\n",
        "    yaxis_title=\"Percentage\",\n",
        "    font=dict(family=\"Times New Roman, monospace\", size=11))\n",
        "fig.show()"
      ],
      "execution_count": null,
      "outputs": []
    },
    {
      "cell_type": "code",
      "metadata": {
        "id": "pDhKjURs4dSY",
        "colab_type": "code",
        "colab": {}
      },
      "source": [
        "import plotly.express as px\n",
        "\n",
        "fig = px.scatter(scoresDataframe, x='PC1', y='PC2', color='labels')\n",
        "\n",
        "fig.show()"
      ],
      "execution_count": null,
      "outputs": []
    },
    {
      "cell_type": "markdown",
      "metadata": {
        "id": "8m4AtGyy4s30",
        "colab_type": "text"
      },
      "source": [
        "**Now, lets do the same PCA but without the R component.**"
      ]
    },
    {
      "cell_type": "code",
      "metadata": {
        "id": "2oBDloDT44YT",
        "colab_type": "code",
        "colab": {}
      },
      "source": [
        "##Now we attempt to consider the coordinates with 'centre of mass'.\n",
        "\n",
        "#Clunky, but here we read each different type of monomer into a pandas df.\n",
        "bData = pd.read_csv('/content/monomer-new-data/centre-of-mass-monomer-config/b-config-centre.csv', header=None)\n",
        "cData = pd.read_csv('/content/monomer-new-data/centre-of-mass-monomer-config/c-config-centre.csv', header=None)\n",
        "geData = pd.read_csv('/content/monomer-new-data/centre-of-mass-monomer-config/ge-config-centre.csv', header=None)\n",
        "giData = pd.read_csv('/content/monomer-new-data/centre-of-mass-monomer-config/gi-config-centre.csv', header=None)\n",
        "\n",
        "#Read in the \"answers\" for the monomer types. B = 0, C = 1, Ge = 2, Gi = 3 for our case\n",
        "bAnswers = pd.read_csv('/content/monomer-new-data/Answers/b-labels.csv', header = None)\n",
        "cAnswers = pd.read_csv('/content/monomer-new-data/Answers/c-labels.csv', header = None)\n",
        "geAnswers = pd.read_csv('/content/monomer-new-data/Answers/ge-labels.csv', header=None)\n",
        "giAnswers = pd.read_csv('/content/monomer-new-data/Answers/gi-labels.csv', header=None)\n",
        "\n",
        "#Now we shall concat, respectivly, the Data & Answers\n",
        "totalData = pd.concat([bData, cData, geData, giData])\n",
        "totalAnswers = pd.concat([bAnswers, cAnswers, geAnswers, giAnswers])\n",
        "\n",
        "## We need to scale this data accordingly.\n",
        "#data = scale(totalData)\n",
        "data = totalData\n",
        "\n",
        "## We can now perform a PCA decomposition down to about 10 components.\n",
        "pca = decomposition.PCA(n_components=10)\n",
        "pca.fit(data)\n",
        "\n",
        "scores = pca.transform(data)\n",
        "\n",
        "## Put the scores into a readable dataframe. All the components will be shown.\n",
        "scoresDataframe = pd.DataFrame(scores, columns=['PC1', 'PC2', 'PC3', 'PC4', 'PC5', 'PC6', 'PC7', 'PC8', 'PC9', 'PC10'])\n",
        "\n",
        "\n",
        "##Lets append the labels on the PCA dataframe. $$$ B = 0 C = 1 Ge = 2 Gi = 3 $$$\n",
        "df =totalAnswers\n",
        "scoresDataframe = scoresDataframe.reset_index(drop=True)\n",
        "df = df.reset_index(drop=True)\n",
        "\n",
        "scoresDataframe.loc[:,'labels'] = df\n",
        "scoresDataframe\n",
        "\n",
        "explained_variance = pca.explained_variance_ratio_\n",
        "explained_variance\n",
        "\n",
        "explainedVariance = np.insert(explained_variance,0,0)\n",
        "cumulativeVariance = np.cumsum(np.round(explainedVariance, decimals=6))\n",
        "\n",
        "pcChart = pd.DataFrame(['','PC1', 'PC2', 'PC3', 'PC4', 'PC5', 'PC6', 'PC7', 'PC8', 'PC9', 'PC10'], columns=['PC'])\n",
        "explainedVarianceDataframe = pd.DataFrame(explainedVariance, columns=['Explained Variance'])\n",
        "cumulativeVarianceDataframe = pd.DataFrame(cumulativeVariance, columns=['Cumulative Variance'])\n",
        "\n",
        "pcaCombinedDf = pd.concat([pcChart, explainedVarianceDataframe, cumulativeVarianceDataframe], axis=1)\n",
        "\n",
        "from plotly.subplots import make_subplots\n",
        "import plotly.graph_objects as go\n",
        "\n",
        "fig = make_subplots(rows=1, cols=2)\n",
        "\n",
        "#This is the line graph\n",
        "fig.add_trace(go.Scatter(x=pcaCombinedDf['PC'], y=pcaCombinedDf['Cumulative Variance'], marker=dict(size=10, color=\"LightSeaGreen\")), row=1, col=1)\n",
        "\n",
        "#This is the bar graph\n",
        "fig.add_trace(go.Bar(x=pcaCombinedDf['PC'], y=pcaCombinedDf['Explained Variance'],marker=dict(color=\"RoyalBlue\"),), row=1, col=2)\n",
        "\n",
        "\n",
        "fig.update_layout(\n",
        "    title=\"PCA stats\",\n",
        "    xaxis_title=\"PCA number\",\n",
        "    yaxis_title=\"Percentage\",\n",
        "    font=dict(family=\"Times New Roman, monospace\", size=11))\n",
        "fig.show()"
      ],
      "execution_count": null,
      "outputs": []
    },
    {
      "cell_type": "code",
      "metadata": {
        "id": "3tx1LG-W5OXN",
        "colab_type": "code",
        "colab": {}
      },
      "source": [
        "import plotly.express as px\n",
        "\n",
        "fig = px.scatter(scoresDataframe, x='PC1', y='PC2', color='labels')\n",
        "\n",
        "fig.show()"
      ],
      "execution_count": null,
      "outputs": []
    },
    {
      "cell_type": "markdown",
      "metadata": {
        "id": "kcMVypVor_nw",
        "colab_type": "text"
      },
      "source": [
        "# 5. Supervised learning on cylindrical coordinates"
      ]
    },
    {
      "cell_type": "code",
      "metadata": {
        "id": "0GIvBs47sIiX",
        "colab_type": "code",
        "colab": {}
      },
      "source": [
        "import os\n",
        "import matplotlib.pyplot as plt\n",
        "import numpy as np\n",
        "import sklearn.model_selection\n",
        "import keras\n",
        "from sklearn.manifold import MDS\n",
        "import pandas as pd\n",
        "from sklearn.model_selection import train_test_split\n",
        "from sklearn.model_selection import KFold\n",
        "import tensorflow as tf\n",
        "import matplotlib\n",
        "%matplotlib inline\n",
        "from sklearn.preprocessing import scale # This is for Data scaling\n",
        "from sklearn import decomposition #AKA: PCA\n",
        "from sklearn.metrics import confusion_matrix\n",
        "import plotly.express as px # for graphing in the PCA section\n",
        "\n",
        "#Clunky, but here we read each different type of monomer into a pandas df.\n",
        "bData = pd.read_csv('/content/polymer-ML-research/cylindrical modified coordinates/b-config-cylindrical.csv', header=None)\n",
        "cData = pd.read_csv('/content/polymer-ML-research/cylindrical modified coordinates/c-config-cylindrical.csv', header=None)\n",
        "geData = pd.read_csv('/content/polymer-ML-research/cylindrical modified coordinates/ge-config-cylindrical.csv', header=None)\n",
        "giData = pd.read_csv('/content/polymer-ML-research/cylindrical modified coordinates/gi-config-cylindrical.csv', header=None)\n",
        "rData = pd.read_csv('/content/polymer-ML-research/cylindrical modified coordinates/r-config-cylindrical.csv', header=None)\n",
        "\n",
        "##Read in the \"answers\" for the monomer types. B = 0, C = 1, Ge = 2, Gi = 3 for our case\n",
        "bAnswers = pd.read_csv('/content/polymer-ML-research/Answers/b-labels.csv', header = None)\n",
        "cAnswers = pd.read_csv('/content/polymer-ML-research/Answers/c-labels.csv', header = None)\n",
        "geAnswers = pd.read_csv('/content/polymer-ML-research/Answers/ge-labels.csv', header=None)\n",
        "giAnswers = pd.read_csv('/content/polymer-ML-research/Answers/gi-labels.csv', header=None)\n",
        "rAnswers = pd.read_csv('/content/polymer-ML-research/Answers/r-labels.csv', header=None)\n",
        "\n",
        "#Now we shall concat, respectivly, the Data & Answers\n",
        "totalData = pd.concat([bData, cData, geData, giData, rData])\n",
        "totalAnswers = pd.concat([bAnswers, cAnswers, geAnswers, giAnswers, rAnswers])\n",
        "\n",
        "q = 1\n",
        "for q in range(5):\n",
        "\n",
        "  ##Using SKlearn for splitting test and training into 33% testing and the rest for training.\n",
        "  X_train, X_test, y_train, y_test = sklearn.model_selection.train_test_split(totalData, totalAnswers, test_size=0.33)\n",
        "\n",
        "  ## Here we initiate the keras sequential api and use dense layers. The final layer will output with softmax.\n",
        "  from keras.models import Sequential\n",
        "  from keras.layers import Dense\n",
        "  from keras.layers import Dropout\n",
        "\n",
        "  np.random.seed(1701)\n",
        "  cylindricalModel = Sequential() \n",
        "  cylindricalModel.add(Dense(units =100, activation = 'relu', input_shape = totalData.shape[1:]))\n",
        "  cylindricalModel.add(Dense(units = 100, activation='relu', kernel_regularizer=keras.regularizers.l2(0.02)))\n",
        "  cylindricalModel.add(Dropout(0.2))\n",
        "  cylindricalModel.add(Dense(units = 5, activation = 'softmax', kernel_regularizer=keras.regularizers.l2(0.02)))\n",
        "\n",
        "  import math\n",
        "  #initial_lrate = 1\n",
        "  #drop = 0.1\n",
        "  #epochs_drop = 60.0\n",
        "  #lrate = initial_lrate * math.pow(drop,math.floor((1+epoch)/epochs_drop))\n",
        "\n",
        "  #opt = keras.optimizers.rmsprop(lr=lrate)\n",
        "\n",
        "  cylindricalModel.compile(optimizer=tf.keras.optimizers.Nadam(learning_rate=0.001, beta_1=0.99, beta_2=0.99, epsilon=1e-07, name=\"Nadam\"), loss =keras.losses.SparseCategoricalCrossentropy(), metrics=['accuracy'])\n",
        "\n",
        "  #Any epoch above 300 has been gratuitous(does not improve the confusion matrix, validation accuracy, nor training accuracy.)\n",
        "  history = cylindricalModel.fit(X_train, y_train, epochs=300,batch_size=30, validation_data=(X_test,y_test))\n",
        "  q = q+1"
      ],
      "execution_count": null,
      "outputs": []
    },
    {
      "cell_type": "code",
      "metadata": {
        "id": "mekY8aSQP68k",
        "colab_type": "code",
        "colab": {}
      },
      "source": [
        "%reset"
      ],
      "execution_count": null,
      "outputs": []
    },
    {
      "cell_type": "code",
      "metadata": {
        "id": "-OGH42gxuYf_",
        "colab_type": "code",
        "colab": {}
      },
      "source": [
        "def plot_confusion_matrix(cm, classes,\n",
        "                          normalize=False,\n",
        "                          title='Confusion matrix',\n",
        "                          cmap=plt.cm.Blues):\n",
        "    \"\"\"\n",
        "    This function prints and plots the confusion matrix.\n",
        "    Normalization can be applied by setting `normalize=True`.\n",
        "    \"\"\"\n",
        "    plt.imshow(cm, interpolation='nearest', cmap=cmap)\n",
        "    plt.title(title)\n",
        "    plt.colorbar()\n",
        "    tick_marks = np.arange(len(classes))\n",
        "    plt.xticks(tick_marks, classes, rotation=45)\n",
        "    plt.yticks(tick_marks, classes)\n",
        "\n",
        "    if normalize:\n",
        "        cm = cm.astype('float') / cm.sum(axis=1)[:, np.newaxis]\n",
        "        print(\"Normalized confusion matrix\")\n",
        "    else:\n",
        "        print('Confusion matrix, without normalization')\n",
        "\n",
        "    print(cm)\n",
        "\n",
        "    thresh = cm.max() / 2.\n",
        "    for i, j in itertools.product(range(cm.shape[0]), range(cm.shape[1])):\n",
        "        plt.text(j, i, cm[i, j],\n",
        "                 horizontalalignment=\"center\",\n",
        "                 color=\"white\" if cm[i, j] > thresh else \"black\")\n",
        "\n",
        "    plt.tight_layout()\n",
        "    plt.ylabel('True label')\n",
        "    plt.xlabel('Predicted label')\n",
        "\n",
        "\n",
        "##Lets make a confusing Confusion Matrix with SKLearn.\n",
        "import itertools\n",
        "import numpy as np\n",
        "import matplotlib.pyplot as plt\n",
        "\n",
        "from sklearn import svm, datasets\n",
        "from sklearn.model_selection import train_test_split\n",
        "from sklearn.metrics import confusion_matrix\n",
        "\n",
        "pred = cylindricalModel.predict(X_test)\n",
        "classes_pred = np.argmax(pred, axis = 1)\n",
        "\n",
        "# Compute confusion matrix\n",
        "cnf_matrix = confusion_matrix(y_test, classes_pred)\n",
        "np.set_printoptions(precision=2)\n",
        "\n",
        "# Plot non-normalized confusion matrix\n",
        "plt.figure()\n",
        "nonNormalMatrix = plot_confusion_matrix(cnf_matrix, classes=['B','C','Ge','Gi','R'], title='Confusion matrix, without normalization')\n",
        "\n",
        "# Plot normalized confusion matrix\n",
        "plt.figure()\n",
        "normalMatrix = plot_confusion_matrix(cnf_matrix, classes=['b','c','Ge','Gi','r'], normalize=True, title='Normalized confusion matrix')\n",
        "normalMatrix"
      ],
      "execution_count": null,
      "outputs": []
    },
    {
      "cell_type": "code",
      "metadata": {
        "id": "C9waEEDgu1RD",
        "colab_type": "code",
        "colab": {}
      },
      "source": [
        "##We now print a classification report from confusion matrix\n",
        "from sklearn.metrics import classification_report\n",
        "print(classification_report(y_test, classes_pred))"
      ],
      "execution_count": null,
      "outputs": []
    },
    {
      "cell_type": "code",
      "metadata": {
        "id": "CSd__oVPu53u",
        "colab_type": "code",
        "colab": {}
      },
      "source": [
        "## Now we can do a little plot to see the correlation between the training statistics and the validation statistics. \n",
        "import numpy as np\n",
        "import pandas as pd\n",
        "import matplotlib.pyplot as plt\n",
        "\n",
        "\n",
        "acc = history.history['accuracy']\n",
        "val_acc = history.history['val_accuracy']\n",
        "loss = history.history['loss']\n",
        "val_loss = history.history['val_loss']\n",
        "epochs = range(len(acc))\n",
        "\n",
        "plt.plot(epochs, acc, 'r', label='Training accuracy')\n",
        "plt. plot(epochs, val_acc, 'b', label='Validation accuracy')\n",
        "plt.title('Training and validation accuracy')\n",
        "plt.figure()"
      ],
      "execution_count": null,
      "outputs": []
    },
    {
      "cell_type": "code",
      "metadata": {
        "id": "f_kPiRPxnW48",
        "colab_type": "code",
        "colab": {}
      },
      "source": [
        "# Plot the learning curves\n",
        "plt.plot(history.history['loss'], label='training')\n",
        "plt.plot(history.history['val_loss'], label='validation')\n",
        "plt.legend()\n",
        "plt.xlabel('epoch')\n",
        "plt.ylabel('Loss')"
      ],
      "execution_count": null,
      "outputs": []
    },
    {
      "cell_type": "code",
      "metadata": {
        "id": "AAshf_4cu-in",
        "colab_type": "code",
        "colab": {}
      },
      "source": [
        "# Save the entire model as a SavedModel.\n",
        "!mkdir -p saved_model\n",
        "cylindricalModel.save('/content/monomer-new-data/cylindrical-classified') "
      ],
      "execution_count": null,
      "outputs": []
    },
    {
      "cell_type": "markdown",
      "metadata": {
        "id": "PxSNMc4ij8SW",
        "colab_type": "text"
      },
      "source": [
        "Below we will run Keras without R values for cylindrical coordinates."
      ]
    },
    {
      "cell_type": "code",
      "metadata": {
        "id": "2KgQ_9ujkDUm",
        "colab_type": "code",
        "colab": {}
      },
      "source": [
        "#Clunky, but here we read each different type of monomer into a pandas df.\n",
        "bData = pd.read_csv('/content/monomer-new-data/cylindrical-configs/b-config-cylindrical.csv', header=None)\n",
        "cData = pd.read_csv('/content/monomer-new-data/cylindrical-configs/c-config-cylindrical.csv', header=None)\n",
        "geData = pd.read_csv('/content/monomer-new-data/cylindrical-configs/ge-config-cylindrical.csv', header=None)\n",
        "giData = pd.read_csv('/content/monomer-new-data/cylindrical-configs/gi-config-cylindrical.csv', header=None)\n",
        "\n",
        "#Read in the \"answers\" for the monomer types. B = 0, C = 1, Ge = 2, Gi = 3 for our case\n",
        "bAnswers = pd.read_csv('/content/monomer-new-data/Answers/b-labels.csv', header = None)\n",
        "cAnswers = pd.read_csv('/content/monomer-new-data/Answers/c-labels.csv', header = None)\n",
        "geAnswers = pd.read_csv('/content/monomer-new-data/Answers/ge-labels.csv', header=None)\n",
        "giAnswers = pd.read_csv('/content/monomer-new-data/Answers/gi-labels.csv', header=None)\n",
        "\n",
        "#Now we shall concat, respectivly, the Data & Answers\n",
        "totalData = pd.concat([bData, cData, geData, giData])\n",
        "totalAnswers = pd.concat([bAnswers, cAnswers, geAnswers, giAnswers])\n",
        "\n",
        "##Using SKlearn for splitting test and training into 33% testing and the rest for training.\n",
        "X_train, X_test, y_train, y_test = sklearn.model_selection.train_test_split(totalData, totalAnswers, test_size=0.33, random_state=101)\n",
        "\n",
        "## Here we initiate the keras sequential api and use dense layers. The final layer will output with softmax.\n",
        "from keras.models import Sequential\n",
        "from keras.layers import Dense\n",
        "np.random.seed(1701)\n",
        "cylindricalModelNoR = Sequential() \n",
        "cylindricalModelNoR.add(Dense(units =100, activation = 'relu', input_shape = totalData.shape[1:]))\n",
        "cylindricalModelNoR.add(Dense(units = 50, activation='relu'))\n",
        "classifier.add(Dropout(0.10))\n",
        "cylindricalModelNoR.add(Dense(units = 5, activation = 'softmax', kernel_regularizer='l2'))\n",
        "\n",
        "import math\n",
        "epoch = 550\n",
        "#initial_lrate = 1\n",
        "#drop = 0.1\n",
        "#epochs_drop = 60.0\n",
        "#lrate = initial_lrate * math.pow(drop,math.floor((1+epoch)/epochs_drop))\n",
        "\n",
        "#opt = keras.optimizers.rmsprop(lr=lrate)\n",
        "\n",
        "loss_fn = keras.losses.SparseCategoricalCrossentropy()\n",
        "\n",
        "cylindricalModelNoR.compile(optimizer='rmsprop', loss =loss_fn, metrics=['accuracy'])"
      ],
      "execution_count": null,
      "outputs": []
    },
    {
      "cell_type": "code",
      "metadata": {
        "id": "2klge-s5kw7j",
        "colab_type": "code",
        "colab": {}
      },
      "source": [
        " history = cylindricalModelNoR.fit(X_train, y_train, epochs=epoch,batch_size=30, validation_data=(X_test,y_test))"
      ],
      "execution_count": null,
      "outputs": []
    },
    {
      "cell_type": "code",
      "metadata": {
        "id": "-Jq2198TlKwi",
        "colab_type": "code",
        "colab": {}
      },
      "source": [
        "def plot_confusion_matrix(cm, classes,\n",
        "                          normalize=False,\n",
        "                          title='Confusion matrix',\n",
        "                          cmap=plt.cm.Blues):\n",
        "    \"\"\"\n",
        "    This function prints and plots the confusion matrix.\n",
        "    Normalization can be applied by setting `normalize=True`.\n",
        "    \"\"\"\n",
        "    plt.imshow(cm, interpolation='nearest', cmap=cmap)\n",
        "    plt.title(title)\n",
        "    plt.colorbar()\n",
        "    tick_marks = np.arange(len(classes))\n",
        "    plt.xticks(tick_marks, classes, rotation=45)\n",
        "    plt.yticks(tick_marks, classes)\n",
        "\n",
        "    if normalize:\n",
        "        cm = cm.astype('float') / cm.sum(axis=1)[:, np.newaxis]\n",
        "        print(\"Normalized confusion matrix\")\n",
        "    else:\n",
        "        print('Confusion matrix, without normalization')\n",
        "\n",
        "    print(cm)\n",
        "\n",
        "    thresh = cm.max() / 2.\n",
        "    for i, j in itertools.product(range(cm.shape[0]), range(cm.shape[1])):\n",
        "        plt.text(j, i, cm[i, j],\n",
        "                 horizontalalignment=\"center\",\n",
        "                 color=\"white\" if cm[i, j] > thresh else \"black\")\n",
        "\n",
        "    plt.tight_layout()\n",
        "    plt.ylabel('True label')\n",
        "    plt.xlabel('Predicted label')\n",
        "\n",
        "##Lets make a confusing Confusion Matrix with SKLearn.\n",
        "import itertools\n",
        "import numpy as np\n",
        "import matplotlib.pyplot as plt\n",
        "\n",
        "from sklearn import svm, datasets\n",
        "from sklearn.model_selection import train_test_split\n",
        "from sklearn.metrics import confusion_matrix\n",
        "\n",
        "pred = cylindricalModelNoR.predict(X_test)\n",
        "classes_pred = np.argmax(pred, axis = 1)\n",
        "\n",
        "# Compute confusion matrix\n",
        "cnf_matrix = confusion_matrix(y_test, classes_pred)\n",
        "np.set_printoptions(precision=2)\n",
        "\n",
        "# Plot non-normalized confusion matrix\n",
        "plt.figure()\n",
        "nonNormalMatrix = plot_confusion_matrix(cnf_matrix, classes=['B','C','Ge','Gi','R'], title='Confusion matrix, without normalization')\n",
        "\n",
        "# Plot normalized confusion matrix\n",
        "plt.figure()\n",
        "normalMatrix = plot_confusion_matrix(cnf_matrix, classes=['b','c','Ge','Gi','r'], normalize=True, title='Normalized confusion matrix')\n",
        "normalMatrix"
      ],
      "execution_count": null,
      "outputs": []
    },
    {
      "cell_type": "code",
      "metadata": {
        "id": "Wj-Utxp4lSVS",
        "colab_type": "code",
        "colab": {}
      },
      "source": [
        "##We now print a classification report from confusion matrix\n",
        "from sklearn.metrics import classification_report\n",
        "print(classification_report(y_test, classes_pred))"
      ],
      "execution_count": null,
      "outputs": []
    },
    {
      "cell_type": "code",
      "metadata": {
        "id": "Ef6nvhiglWTK",
        "colab_type": "code",
        "colab": {}
      },
      "source": [
        "## Now we can do a little plot to see the correlation between the training statistics and the validation statistics. \n",
        "import numpy as np\n",
        "import pandas as pd\n",
        "import matplotlib.pyplot as plt\n",
        "\n",
        "\n",
        "acc = history.history['accuracy']\n",
        "val_acc = history.history['val_accuracy']\n",
        "loss = history.history['loss']\n",
        "val_loss = history.history['val_loss']\n",
        "epochs = range(len(acc))\n",
        "\n",
        "plt.plot(epochs, acc, 'r', label='Training accuracy')\n",
        "plt. plot(epochs, val_acc, 'b', label='Validation accuracy')\n",
        "plt.title('Training and validation accuracy')\n",
        "plt.figure()"
      ],
      "execution_count": null,
      "outputs": []
    },
    {
      "cell_type": "markdown",
      "metadata": {
        "id": "j-irylT9WkO5",
        "colab_type": "text"
      },
      "source": [
        "# 6. PCA for cylindrical coordinates"
      ]
    },
    {
      "cell_type": "code",
      "metadata": {
        "id": "gefCraaXWi2y",
        "colab_type": "code",
        "colab": {}
      },
      "source": [
        "##Now we attempt to consider the coordinates with 'centre of mass'.\n",
        "\n",
        "#Clunky, but here we read each different type of monomer into a pandas df.\n",
        "bData = pd.read_csv('/content/polymer-ML-research/cylindrical modified coordinates/b-config-cylindrical.csv', header=None)\n",
        "cData = pd.read_csv('/content/polymer-ML-research/cylindrical modified coordinates/c-config-cylindrical.csv', header=None)\n",
        "geData = pd.read_csv('/content/polymer-ML-research/cylindrical modified coordinates/ge-config-cylindrical.csv', header=None)\n",
        "giData = pd.read_csv('/content/polymer-ML-research/cylindrical modified coordinates/gi-config-cylindrical.csv', header=None)\n",
        "\n",
        "##Read in the \"answers\" for the monomer types. B = 0, C = 1, Ge = 2, Gi = 3 for our case\n",
        "bAnswers = pd.read_csv('/content/polymer-ML-research/Answers/b-labels.csv', header = None)\n",
        "cAnswers = pd.read_csv('/content/polymer-ML-research/Answers/c-labels.csv', header = None)\n",
        "geAnswers = pd.read_csv('/content/polymer-ML-research/Answers/ge-labels.csv', header=None)\n",
        "giAnswers = pd.read_csv('/content/polymer-ML-research/Answers/gi-labels.csv', header=None)\n",
        "\n",
        "#Now we shall concat, respectivly, the Data & Answers\n",
        "totalData = pd.concat([bData, cData, geData, giData])\n",
        "totalAnswers = pd.concat([bAnswers, cAnswers, geAnswers, giAnswers])\n",
        "\n",
        "\n",
        "## We need to scale this data accordingly.\n",
        "#data = scale(totalData)\n",
        "data = totalData\n",
        "\n",
        "## We can now perform a PCA decomposition down to about 10 components.\n",
        "pca = decomposition.PCA(n_components=10)\n",
        "pca.fit(data)"
      ],
      "execution_count": null,
      "outputs": []
    },
    {
      "cell_type": "code",
      "metadata": {
        "id": "v3hPplhzXPNv",
        "colab_type": "code",
        "colab": {}
      },
      "source": [
        "explained_variance = pca.explained_variance_ratio_\n",
        "explained_variance\n",
        "\n",
        "explainedVariance = np.insert(explained_variance,0,0)\n",
        "cumulativeVariance = np.cumsum(np.round(explainedVariance, decimals=6))\n",
        "\n",
        "pcChart = pd.DataFrame(['','PC1', 'PC2', 'PC3', 'PC4', 'PC5', 'PC6', 'PC7', 'PC8', 'PC9', 'PC10'], columns=['PC'])\n",
        "explainedVarianceDataframe = pd.DataFrame(explainedVariance, columns=['Explained Variance'])\n",
        "cumulativeVarianceDataframe = pd.DataFrame(cumulativeVariance, columns=['Cumulative Variance'])\n",
        "\n",
        "pcaCombinedDf = pd.concat([pcChart, explainedVarianceDataframe, cumulativeVarianceDataframe], axis=1)\n",
        "pcaCombinedDf"
      ],
      "execution_count": null,
      "outputs": []
    },
    {
      "cell_type": "code",
      "metadata": {
        "id": "eL_UfLuQXHsN",
        "colab_type": "code",
        "colab": {}
      },
      "source": [
        "scores = pca.transform(data)\n",
        "\n",
        "## Put the scores into a readable dataframe. All the components will be shown.\n",
        "scoresDataframe = pd.DataFrame(scores, columns=['PC1', 'PC2', 'PC3', 'PC4', 'PC5', 'PC6', 'PC7', 'PC8', 'PC9', 'PC10'])\n",
        "\n",
        "\n",
        "##Lets append the labels on the PCA dataframe. $$$ B = 0 C = 1 Ge = 2 Gi = 3 $$$\n",
        "df =totalAnswers\n",
        "scoresDataframe = scoresDataframe.reset_index(drop=True)\n",
        "df = df.reset_index(drop=True)\n",
        "\n",
        "scoresDataframe.loc[:,'labels'] = df\n",
        "scoresDataframe"
      ],
      "execution_count": null,
      "outputs": []
    },
    {
      "cell_type": "code",
      "metadata": {
        "id": "d_CKkKsyXVxg",
        "colab_type": "code",
        "colab": {}
      },
      "source": [
        "from plotly.subplots import make_subplots\n",
        "import plotly.graph_objects as go\n",
        "\n",
        "fig = make_subplots(rows=1, cols=2)\n",
        "\n",
        "#This is the line graph\n",
        "fig.add_trace(go.Scatter(x=pcaCombinedDf['PC'], y=pcaCombinedDf['Cumulative Variance'], marker=dict(size=10, color=\"LightSeaGreen\")), row=1, col=1)\n",
        "\n",
        "#This is the bar graph\n",
        "fig.add_trace(go.Bar(x=pcaCombinedDf['PC'], y=pcaCombinedDf['Explained Variance'],marker=dict(color=\"RoyalBlue\"),), row=1, col=2)\n",
        "\n",
        "\n",
        "fig.update_layout(\n",
        "    title=\"PCA stats\",\n",
        "    xaxis_title=\"PCA number\",\n",
        "    yaxis_title=\"Percentage\",\n",
        "    font=dict(family=\"Times New Roman, monospace\", size=11))\n",
        "fig.show()"
      ],
      "execution_count": null,
      "outputs": []
    },
    {
      "cell_type": "code",
      "metadata": {
        "id": "d4fIdZbEXho5",
        "colab_type": "code",
        "colab": {}
      },
      "source": [
        "import plotly.express as px\n",
        "\n",
        "fig = px.scatter(scoresDataframe, x='PC1', y='PC2', color='labels')\n",
        "\n",
        "fig.show()"
      ],
      "execution_count": null,
      "outputs": []
    },
    {
      "cell_type": "markdown",
      "metadata": {
        "id": "ju0G-j0c5KSC",
        "colab_type": "text"
      },
      "source": [
        "# 7. Let us see about using MDS and manifold unsupervised learning"
      ]
    },
    {
      "cell_type": "code",
      "metadata": {
        "id": "0Q9lCGUCouaA",
        "colab_type": "code",
        "colab": {}
      },
      "source": [
        "# MDS #\n",
        "\n",
        "from sklearn.manifold import MDS\n",
        "mds = MDS(n_components=2, metric=True, n_init=10, max_iter=2000, eps=1e-4)\n",
        "X_reduced = mds.fit_transform(X_train)\n",
        "\n",
        "n_classes = 4\n",
        "cmap = matplotlib.colors.ListedColormap(['blue', 'green', 'yellow', 'red'])\n",
        "\n",
        "matplotlib.rcParams.update({'font.size':18})\n",
        "plt.figure(figsize=(10,8))\n",
        "sc = plt.scatter(X_reduced[:, 0], X_reduced[:, 1], c=y, s=20, cmap=cmap)\n",
        "cbar = plt.colorbar(sc)\n",
        "\n",
        "tick_locs = (np.arange(n_classes) + 0.5)*(n_classes-1)/n_classes\n",
        "cbar.set_ticks(tick_locs)\n",
        "# set tick labels (as before)\n",
        "cbar.set_ticklabels(['B', 'C', 'Ge', 'Gi'])\n",
        "\n",
        "plt.xlabel(r'$z_1$')\n",
        "plt.ylabel(r'$z_2$')\n",
        "plt.title('Multidimensional Scaling (MDS)')"
      ],
      "execution_count": null,
      "outputs": []
    },
    {
      "cell_type": "code",
      "metadata": {
        "id": "rctiEjGElaVP",
        "colab_type": "code",
        "colab": {}
      },
      "source": [
        "# Save the entire model as a SavedModel.\n",
        "!mkdir -p saved_model\n",
        "cylindricalModel.save('/content/monomer-new-data/cylindrical-classified-no-R') "
      ],
      "execution_count": null,
      "outputs": []
    },
    {
      "cell_type": "markdown",
      "metadata": {
        "id": "VlZhR6RzFW-L",
        "colab_type": "text"
      },
      "source": [
        "Below we show PCA with the cylindrical coordinate files, without R"
      ]
    },
    {
      "cell_type": "code",
      "metadata": {
        "id": "9CRb_JDiFcJT",
        "colab_type": "code",
        "colab": {}
      },
      "source": [
        "##Now we attempt to consider the coordinates with 'centre of mass'.\n",
        "\n",
        "#Clunky, but here we read each different type of monomer into a pandas df.\n",
        "bData = pd.read_csv('/content/polymer-ML-research/cylindrical modified coordinates/b-config-cylindrical.csv', header=None)\n",
        "cData = pd.read_csv('/content/polymer-ML-research/cylindrical modified coordinates/c-config-cylindrical.csv', header=None)\n",
        "geData = pd.read_csv('/content/polymer-ML-research/cylindrical modified coordinates/ge-config-cylindrical.csv', header=None)\n",
        "giData = pd.read_csv('/content/polymer-ML-research/cylindrical modified coordinates/gi-config-cylindrical.csv', header=None)\n",
        "\n",
        "##Read in the \"answers\" for the monomer types. B = 0, C = 1, Ge = 2, Gi = 3 for our case\n",
        "bAnswers = pd.read_csv('/content/polymer-ML-research/Answers/b-labels.csv', header = None)\n",
        "cAnswers = pd.read_csv('/content/polymer-ML-research/Answers/c-labels.csv', header = None)\n",
        "geAnswers = pd.read_csv('/content/polymer-ML-research/Answers/ge-labels.csv', header=None)\n",
        "giAnswers = pd.read_csv('/content/polymer-ML-research/Answers/gi-labels.csv', header=None)\n",
        "rAnswers = pd.read_csv('/content/polymer-ML-research/Answers/r-labels.csv', header=None)\n",
        "\n",
        "#Now we shall concat, respectivly, the Data & Answers\n",
        "totalData = pd.concat([bData, cData, geData, giData])\n",
        "totalAnswers = pd.concat([bAnswers, cAnswers, geAnswers, giAnswers])\n",
        "\n",
        "## We need to scale this data accordingly.\n",
        "#data = scale(totalData)\n",
        "data = totalData\n",
        "\n",
        "## We can now perform a PCA decomposition down to about 10 components.\n",
        "pca = decomposition.PCA(n_components=10)\n",
        "pca.fit(data)\n",
        "\n",
        "scores = pca.transform(data)\n",
        "\n",
        "## Put the scores into a readable dataframe. All the components will be shown.\n",
        "scoresDataframe = pd.DataFrame(scores, columns=['PC1', 'PC2', 'PC3', 'PC4', 'PC5', 'PC6', 'PC7', 'PC8', 'PC9', 'PC10'])\n",
        "\n",
        "\n",
        "##Lets append the labels on the PCA dataframe. $$$ B = 0 C = 1 Ge = 2 Gi = 3 $$$\n",
        "df =totalAnswers\n",
        "scoresDataframe = scoresDataframe.reset_index(drop=True)\n",
        "df = df.reset_index(drop=True)\n",
        "\n",
        "scoresDataframe.loc[:,'labels'] = df\n",
        "scoresDataframe\n",
        "\n",
        "explained_variance = pca.explained_variance_ratio_\n",
        "explained_variance\n",
        "\n",
        "explainedVariance = np.insert(explained_variance,0,0)\n",
        "cumulativeVariance = np.cumsum(np.round(explainedVariance, decimals=6))\n",
        "\n",
        "pcChart = pd.DataFrame(['','PC1', 'PC2', 'PC3', 'PC4', 'PC5', 'PC6', 'PC7', 'PC8', 'PC9', 'PC10'], columns=['PC'])\n",
        "explainedVarianceDataframe = pd.DataFrame(explainedVariance, columns=['Explained Variance'])\n",
        "cumulativeVarianceDataframe = pd.DataFrame(cumulativeVariance, columns=['Cumulative Variance'])\n",
        "\n",
        "pcaCombinedDf = pd.concat([pcChart, explainedVarianceDataframe, cumulativeVarianceDataframe], axis=1)\n",
        "\n",
        "from plotly.subplots import make_subplots\n",
        "import plotly.graph_objects as go\n",
        "\n",
        "fig = make_subplots(rows=1, cols=2)\n",
        "\n",
        "#This is the line graph\n",
        "fig.add_trace(go.Scatter(x=pcaCombinedDf['PC'], y=pcaCombinedDf['Cumulative Variance'], marker=dict(size=10, color=\"LightSeaGreen\")), row=1, col=1)\n",
        "\n",
        "#This is the bar graph\n",
        "fig.add_trace(go.Bar(x=pcaCombinedDf['PC'], y=pcaCombinedDf['Explained Variance'],marker=dict(color=\"RoyalBlue\"),), row=1, col=2)\n",
        "\n",
        "\n",
        "fig.update_layout(\n",
        "    title=\"PCA stats\",\n",
        "    xaxis_title=\"PCA number\",\n",
        "    yaxis_title=\"Percentage\",\n",
        "    font=dict(family=\"Times New Roman, monospace\", size=11))\n",
        "fig.show()"
      ],
      "execution_count": null,
      "outputs": []
    },
    {
      "cell_type": "code",
      "metadata": {
        "id": "t2wBVjY2FyMT",
        "colab_type": "code",
        "colab": {}
      },
      "source": [
        "import plotly.express as px\n",
        "\n",
        "fig = px.scatter_3d(scoresDataframe, x='PC1', y='PC2', z='PC3', color='labels')\n",
        "\n",
        "fig.show()"
      ],
      "execution_count": null,
      "outputs": []
    },
    {
      "cell_type": "markdown",
      "metadata": {
        "id": "0vwrwgs3GXNq",
        "colab_type": "text"
      },
      "source": [
        "Below we show PCA of cylindrical coordinate files, with R Monomer type\n"
      ]
    },
    {
      "cell_type": "code",
      "metadata": {
        "id": "mPKOO9R5GWZa",
        "colab_type": "code",
        "colab": {}
      },
      "source": [
        "##Now we attempt to consider the coordinates with 'centre of mass'.\n",
        "\n",
        "#Clunky, but here we read each different type of monomer into a pandas df.\n",
        "bData = pd.read_csv('/content/monomer-new-data/cylindrical-configs/b-config-cylindrical.csv', header=None)\n",
        "cData = pd.read_csv('/content/monomer-new-data/cylindrical-configs/c-config-cylindrical.csv', header=None)\n",
        "geData = pd.read_csv('/content/monomer-new-data/cylindrical-configs/ge-config-cylindrical.csv', header=None)\n",
        "giData = pd.read_csv('/content/monomer-new-data/cylindrical-configs/gi-config-cylindrical.csv', header=None)\n",
        "\n",
        "#Read in the \"answers\" for the monomer types. B = 0, C = 1, Ge = 2, Gi = 3 for our case\n",
        "bAnswers = pd.read_csv('/content/monomer-new-data/Answers/b-labels.csv', header = None)\n",
        "cAnswers = pd.read_csv('/content/monomer-new-data/Answers/c-labels.csv', header = None)\n",
        "geAnswers = pd.read_csv('/content/monomer-new-data/Answers/ge-labels.csv', header=None)\n",
        "giAnswers = pd.read_csv('/content/monomer-new-data/Answers/gi-labels.csv', header=None)\n",
        "\n",
        "#Now we shall concat, respectivly, the Data & Answers\n",
        "totalData = pd.concat([bData, cData, geData, giData])\n",
        "totalAnswers = pd.concat([bAnswers, cAnswers, geAnswers, giAnswers])\n",
        "\n",
        "## We need to scale this data accordingly.\n",
        "#data = scale(totalData)\n",
        "data = totalData\n",
        "\n",
        "## We can now perform a PCA decomposition down to about 10 components.\n",
        "pca = decomposition.PCA(n_components=10)\n",
        "pca.fit(data)\n",
        "\n",
        "scores = pca.transform(data)\n",
        "\n",
        "## Put the scores into a readable dataframe. All the components will be shown.\n",
        "scoresDataframe = pd.DataFrame(scores, columns=['PC1', 'PC2', 'PC3', 'PC4', 'PC5', 'PC6', 'PC7', 'PC8', 'PC9', 'PC10'])\n",
        "\n",
        "\n",
        "##Lets append the labels on the PCA dataframe. $$$ B = 0 C = 1 Ge = 2 Gi = 3 $$$\n",
        "df =totalAnswers\n",
        "scoresDataframe = scoresDataframe.reset_index(drop=True)\n",
        "df = df.reset_index(drop=True)\n",
        "\n",
        "scoresDataframe.loc[:,'labels'] = df\n",
        "scoresDataframe\n",
        "\n",
        "explained_variance = pca.explained_variance_ratio_\n",
        "explained_variance\n",
        "\n",
        "explainedVariance = np.insert(explained_variance,0,0)\n",
        "cumulativeVariance = np.cumsum(np.round(explainedVariance, decimals=6))\n",
        "\n",
        "pcChart = pd.DataFrame(['','PC1', 'PC2', 'PC3', 'PC4', 'PC5', 'PC6', 'PC7', 'PC8', 'PC9', 'PC10'], columns=['PC'])\n",
        "explainedVarianceDataframe = pd.DataFrame(explainedVariance, columns=['Explained Variance'])\n",
        "cumulativeVarianceDataframe = pd.DataFrame(cumulativeVariance, columns=['Cumulative Variance'])\n",
        "\n",
        "pcaCombinedDf = pd.concat([pcChart, explainedVarianceDataframe, cumulativeVarianceDataframe], axis=1)\n",
        "\n",
        "from plotly.subplots import make_subplots\n",
        "import plotly.graph_objects as go\n",
        "\n",
        "fig = make_subplots(rows=1, cols=2)\n",
        "\n",
        "#This is the line graph\n",
        "fig.add_trace(go.Scatter(x=pcaCombinedDf['PC'], y=pcaCombinedDf['Cumulative Variance'], marker=dict(size=10, color=\"LightSeaGreen\")), row=1, col=1)\n",
        "\n",
        "#This is the bar graph\n",
        "fig.add_trace(go.Bar(x=pcaCombinedDf['PC'], y=pcaCombinedDf['Explained Variance'],marker=dict(color=\"RoyalBlue\"),), row=1, col=2)\n",
        "\n",
        "\n",
        "fig.update_layout(\n",
        "    title=\"PCA stats\",\n",
        "    xaxis_title=\"PCA number\",\n",
        "    yaxis_title=\"Percentage\",\n",
        "    font=dict(family=\"Times New Roman, monospace\", size=11))\n",
        "fig.show()"
      ],
      "execution_count": null,
      "outputs": []
    },
    {
      "cell_type": "code",
      "metadata": {
        "id": "XQm-qNbTG2cj",
        "colab_type": "code",
        "colab": {}
      },
      "source": [
        "# 0 is B, 1 is C, 2 Ge, 3 is Gi.\n",
        "\n",
        "import plotly.express as px\n",
        "\n",
        "fig = px.scatter(scoresDataframe, x='PC1', y='PC2', color='labels')\n",
        "\n",
        "fig.show()"
      ],
      "execution_count": null,
      "outputs": []
    },
    {
      "cell_type": "markdown",
      "metadata": {
        "id": "-2h4reMvUibF",
        "colab_type": "text"
      },
      "source": [
        "MDS for cylindrical coordinates"
      ]
    },
    {
      "cell_type": "code",
      "metadata": {
        "id": "5DiZiefUUSYm",
        "colab_type": "code",
        "colab": {}
      },
      "source": [
        "#Clunky, but here we read each different type of monomer into a pandas df.\n",
        "bData = pd.read_csv('/content/monomer-new-data/cylindrical-configs/b-config-cylindrical.csv', header=None)\n",
        "cData = pd.read_csv('/content/monomer-new-data/cylindrical-configs/c-config-cylindrical.csv', header=None)\n",
        "geData = pd.read_csv('/content/monomer-new-data/cylindrical-configs/ge-config-cylindrical.csv', header=None)\n",
        "giData = pd.read_csv('/content/monomer-new-data/cylindrical-configs/gi-config-cylindrical.csv', header=None)\n",
        "\n",
        "#Read in the \"answers\" for the monomer types. B = 0, C = 1, Ge = 2, Gi = 3 for our case\n",
        "bAnswers = pd.read_csv('/content/monomer-new-data/Answers/b-labels.csv', header = None)\n",
        "cAnswers = pd.read_csv('/content/monomer-new-data/Answers/c-labels.csv', header = None)\n",
        "geAnswers = pd.read_csv('/content/monomer-new-data/Answers/ge-labels.csv', header=None)\n",
        "giAnswers = pd.read_csv('/content/monomer-new-data/Answers/gi-labels.csv', header=None)\n",
        "\n",
        "#Now we shall concat, respectivly, the Data & Answers\n",
        "totalData = pd.concat([bData, cData, geData, giData])\n",
        "totalAnswers = pd.concat([bAnswers, cAnswers, geAnswers, giAnswers])\n",
        "\n",
        "# MDS #\n",
        "\n",
        "from sklearn.manifold import MDS\n",
        "mds = MDS(n_components=2, metric=True, n_init=10, max_iter=1000, eps=1e-4)\n",
        "X_reduced = mds.fit_transform(totalData)\n",
        "\n",
        "n_classes = 4\n",
        "cmap = matplotlib.colors.ListedColormap(['blue', 'green', 'yellow', 'red'])\n",
        "\n",
        "matplotlib.rcParams.update({'font.size':18})\n",
        "plt.figure(figsize=(10,8))\n",
        "sc = plt.scatter(X_reduced[:, 0], X_reduced[:, 1], c=totalAnswers, s=20, cmap=cmap)\n",
        "cbar = plt.colorbar(sc)\n",
        "\n",
        "tick_locs = (np.arange(n_classes) + 0.5)*(n_classes-1)/n_classes\n",
        "cbar.set_ticks(tick_locs)\n",
        "# set tick labels (as before)\n",
        "cbar.set_ticklabels(['B', 'C', 'Ge', 'Gi'])\n",
        "\n",
        "plt.xlabel(r'$z_1$')\n",
        "plt.ylabel(r'$z_2$')\n",
        "plt.title('Multidimensional Scaling (MDS)')"
      ],
      "execution_count": null,
      "outputs": []
    },
    {
      "cell_type": "markdown",
      "metadata": {
        "id": "SNFl-I9AU4OS",
        "colab_type": "text"
      },
      "source": [
        "MDS for normal coordinates"
      ]
    },
    {
      "cell_type": "code",
      "metadata": {
        "id": "-PLExRPEBD0l",
        "colab_type": "code",
        "colab": {}
      },
      "source": [
        "bData = pd.read_csv('/content/monomer-new-data/b-config.csv', header=None)\n",
        "cData = pd.read_csv('/content/monomer-new-data/c-config.csv', header=None)\n",
        "geData = pd.read_csv('/content/monomer-new-data/ge-config.csv', header=None)\n",
        "giData = pd.read_csv('/content/monomer-new-data/gi-config.csv', header=None)\n",
        "\n",
        "##Read in the \"answers\" for the monomer types. B = 0, C = 1, Ge = 2, Gi = 3 for our case\n",
        "bAnswers = pd.read_csv('/content/monomer-new-data/Answers/b-labels.csv', header = None)\n",
        "cAnswers = pd.read_csv('/content/monomer-new-data/Answers/c-labels.csv', header = None)\n",
        "geAnswers = pd.read_csv('/content/monomer-new-data/Answers/ge-labels.csv', header=None)\n",
        "giAnswers = pd.read_csv('/content/monomer-new-data/Answers/gi-labels.csv', header=None)\n",
        "\n",
        "#Now we shall concat, respectivly, the Data & Answers\n",
        "totalData = pd.concat([bData, cData, geData, giData])\n",
        "totalAnswers = pd.concat([bAnswers, cAnswers, geAnswers, giAnswers])\n",
        "\n",
        "# MDS (Raw data without subtracting center of mass)\n",
        "# Scale the coordinates using standard scaler before the analysis\n",
        "\n",
        "from sklearn.preprocessing import StandardScaler\n",
        "\n",
        "scaler = StandardScaler()\n",
        "X = scaler.fit_transform(totalData)\n",
        "\n",
        "from sklearn.manifold import MDS\n",
        "mds = MDS(n_components=2, metric=True, n_init=10, max_iter=1000, eps=1e-4)\n",
        "X_reduced = mds.fit_transform(X)\n",
        "\n",
        "n_classes = 4\n",
        "cmap = matplotlib.colors.ListedColormap(['blue', 'green', 'black', 'red'])\n",
        "\n",
        "matplotlib.rcParams.update({'font.size':18})\n",
        "plt.figure(figsize=(10,8))\n",
        "sc = plt.scatter(X_reduced[:, 0], X_reduced[:, 1], c=totalAnswers, s=20, cmap=cmap)\n",
        "cbar = plt.colorbar(sc)\n",
        "\n",
        "tick_locs = (np.arange(n_classes) + 0.5)*(n_classes-1)/n_classes\n",
        "cbar.set_ticks(tick_locs)\n",
        "# set tick labels (as before)\n",
        "cbar.set_ticklabels(['B', 'C', 'Ge', 'Gi'])\n",
        "\n",
        "plt.xlabel(r'$z_1$')\n",
        "plt.ylabel(r'$z_2$')\n",
        "plt.title('Multidimensional Scaling (MDS)')"
      ],
      "execution_count": null,
      "outputs": []
    },
    {
      "cell_type": "code",
      "metadata": {
        "id": "d9WzAy1D99uT",
        "colab_type": "code",
        "colab": {}
      },
      "source": [
        "plt.scatter(X_reduced[:, 0], X_reduced[:, 1], c=totalAnswers, s=5, cmap=cmap)"
      ],
      "execution_count": null,
      "outputs": []
    },
    {
      "cell_type": "markdown",
      "metadata": {
        "id": "biyU9-GNV_-c",
        "colab_type": "text"
      },
      "source": [
        "# 8. Supervised learning on coordinates scaled with Radius of Gyration"
      ]
    },
    {
      "cell_type": "code",
      "metadata": {
        "id": "-zhB1aapWD1m",
        "colab_type": "code",
        "colab": {}
      },
      "source": [
        "##Clunky, but he we read each different type of monomer into a pandas df.\n",
        "bData = pd.read_csv('/content/polymer-ML-research/gyration modified coordinates/b-config-gyration.csv', header=None)\n",
        "cData = pd.read_csv('/content/polymer-ML-research/gyration modified coordinates/c-config-gyration.csv', header=None)\n",
        "geData = pd.read_csv('/content/polymer-ML-research/gyration modified coordinates/ge-config-gyration.csv', header=None)\n",
        "giData = pd.read_csv('/content/polymer-ML-research/gyration modified coordinates/gi-config-gyration.csv', header=None)\n",
        "rData = pd.read_csv('/content/polymer-ML-research/gyration modified coordinates/r-config-gyration.csv', header=None)\n",
        "\n",
        "##Read in the \"answers\" for the monomer types. B = 0, C = 1, Ge = 2, Gi = 3 for our case\n",
        "bAnswers = pd.read_csv('/content/polymer-ML-research/Answers/b-labels.csv', header = None)\n",
        "cAnswers = pd.read_csv('/content/polymer-ML-research/Answers/c-labels.csv', header = None)\n",
        "geAnswers = pd.read_csv('/content/polymer-ML-research/Answers/ge-labels.csv', header=None)\n",
        "giAnswers = pd.read_csv('/content/polymer-ML-research/Answers/gi-labels.csv', header=None)\n",
        "rAnswers = pd.read_csv('/content/polymer-ML-research/Answers/r-labels.csv', header=None)\n",
        "##Now we shall concat, respectivly, the Data & Answers\n",
        "totalData = pd.concat([bData, cData, geData, giData, rData])\n",
        "totalAnswers = pd.concat([bAnswers, cAnswers, geAnswers, giAnswers, rAnswers])"
      ],
      "execution_count": 21,
      "outputs": []
    },
    {
      "cell_type": "markdown",
      "metadata": {
        "id": "YtJ7WPFNnfqN",
        "colab_type": "text"
      },
      "source": [
        "Notice the for loop\n"
      ]
    },
    {
      "cell_type": "code",
      "metadata": {
        "id": "75n7PHb_WSY7",
        "colab_type": "code",
        "colab": {}
      },
      "source": [
        "q = 1\n",
        "for q in range(5):\n",
        "  ##Using SKlearn for splitting test and training into 33% testing and the rest for training.\n",
        "  X_train, X_test, y_train, y_test = sklearn.model_selection.train_test_split(totalData, totalAnswers, test_size=0.50)\n",
        "\n",
        "\n",
        "  ## Here we initiate the keras sequential api and use dense layers.\n",
        "  from keras.models import Sequential\n",
        "  from keras.layers import Dense\n",
        "  from keras.layers import Dropout\n",
        "  np.random.seed(1701)\n",
        "  classifierGyration = Sequential()\n",
        "  classifierGyration.add(Dense(units =100, activation = 'relu', input_shape = totalData.shape[1:]))\n",
        "  classifierGyration.add(Dense(units = 100, activation='relu', kernel_regularizer=keras.regularizers.l2(0.05))) \n",
        "  classifierGyration.add(Dropout(0.30))\n",
        "  classifierGyration.add(Dense(units = 5, activation = 'softmax', kernel_regularizer=keras.regularizers.l2(0.05)))\n",
        "\n",
        "  from sklearn.preprocessing import StandardScaler\n",
        "\n",
        "  #scaler = StandardScaler()\n",
        "  #scaler.fit(X_train)\n",
        "\n",
        "  #X_train = scaler.transform(X_train)\n",
        "  #X_test = scaler.transform(X_test)\n",
        "\n",
        "\n",
        "  #kernel_initializer='uniform'\n",
        "\n",
        "  import math\n",
        "  #initial_lrate = 1\n",
        "  #drop = 0.1\n",
        "  #epochs_drop = 60.0\n",
        "  #lrate = initial_lrate * math.pow(drop,math.floor((1+epoch)/epochs_drop))\n",
        "  #opt = keras.optimizers.rmsprop(lr=lrate)\n",
        "  classifierGyration.compile(optimizer=tf.keras.optimizers.Nadam(learning_rate=0.001, beta_1=0.99, beta_2=0.99, epsilon=1e-07, name=\"Nadam\"), loss =keras.losses.SparseCategoricalCrossentropy(), metrics=['accuracy'])\n",
        "\n",
        "  history = classifierGyration.fit(X_train, y_train, epochs=550,batch_size=30, validation_data=(X_test,y_test))\n",
        "\n",
        "  q = q+1"
      ],
      "execution_count": null,
      "outputs": []
    },
    {
      "cell_type": "code",
      "metadata": {
        "id": "rOp2zVPZYvtO",
        "colab_type": "code",
        "colab": {}
      },
      "source": [
        "%reset"
      ],
      "execution_count": null,
      "outputs": []
    },
    {
      "cell_type": "code",
      "metadata": {
        "id": "OdhrPIftXcGh",
        "colab_type": "code",
        "colab": {}
      },
      "source": [
        "def plot_confusion_matrix(cm, classes,\n",
        "                          normalize=False,\n",
        "                          title='Confusion matrix',\n",
        "                          cmap=plt.cm.Blues):\n",
        "    \"\"\"\n",
        "    This function prints and plots the confusion matrix.\n",
        "    Normalization can be applied by setting `normalize=True`.\n",
        "    \"\"\"\n",
        "    plt.imshow(cm, interpolation='nearest', cmap=cmap)\n",
        "    plt.title(title)\n",
        "    plt.colorbar()\n",
        "    tick_marks = np.arange(len(classes))\n",
        "    plt.xticks(tick_marks, classes, rotation=45)\n",
        "    plt.yticks(tick_marks, classes)\n",
        "\n",
        "    if normalize:\n",
        "        cm = cm.astype('float') / cm.sum(axis=1)[:, np.newaxis]\n",
        "        print(\"Normalized confusion matrix\")\n",
        "    else:\n",
        "        print('Confusion matrix, without normalization')\n",
        "\n",
        "    print(cm)\n",
        "\n",
        "    thresh = cm.max() / 2.\n",
        "    for i, j in itertools.product(range(cm.shape[0]), range(cm.shape[1])):\n",
        "        plt.text(j, i, cm[i, j],\n",
        "                 horizontalalignment=\"center\",\n",
        "                 color=\"white\" if cm[i, j] > thresh else \"black\")\n",
        "\n",
        "    plt.tight_layout()\n",
        "    plt.ylabel('True label')\n",
        "    plt.xlabel('Predicted label')\n",
        "\n",
        "\n",
        "##Lets make a confusing Confusion Matrix with SKLearn.\n",
        "import itertools\n",
        "import numpy as np\n",
        "import matplotlib.pyplot as plt\n",
        "\n",
        "from sklearn import svm, datasets\n",
        "from sklearn.model_selection import train_test_split\n",
        "from sklearn.metrics import confusion_matrix\n",
        "\n",
        "pred = classifierGyration.predict(X_test)\n",
        "classes_pred = np.argmax(pred, axis = 1)\n",
        "\n",
        "# Compute confusion matrix\n",
        "cnf_matrix = confusion_matrix(y_test, classes_pred)\n",
        "np.set_printoptions(precision=2)\n",
        "\n",
        "# Plot non-normalized confusion matrix\n",
        "plt.figure()\n",
        "nonNormalMatrix = plot_confusion_matrix(cnf_matrix, classes=['B','C','Ge','Gi','R'], title='Confusion matrix, without normalization')\n",
        "\n",
        "# Plot normalized confusion matrix\n",
        "plt.figure()\n",
        "normalMatrix = plot_confusion_matrix(cnf_matrix, classes=['b','c','Ge','Gi','r'], normalize=True, title='Normalized confusion matrix')\n",
        "normalMatrix"
      ],
      "execution_count": null,
      "outputs": []
    },
    {
      "cell_type": "code",
      "metadata": {
        "id": "B4wt79-CZpu4",
        "colab_type": "code",
        "colab": {}
      },
      "source": [
        "##We now print a classification report from confusion matrix\n",
        "from sklearn.metrics import classification_report\n",
        "print(classification_report(y_test, classes_pred))"
      ],
      "execution_count": null,
      "outputs": []
    },
    {
      "cell_type": "code",
      "metadata": {
        "id": "A6TQy3JMZ9SO",
        "colab_type": "code",
        "colab": {}
      },
      "source": [
        "## Now we can do a little plot to see the correlation between the training statistics and the validation statistics. \n",
        "import numpy as np\n",
        "import pandas as pd\n",
        "import matplotlib.pyplot as plt\n",
        "\n",
        "\n",
        "acc = history.history['accuracy']\n",
        "val_acc = history.history['val_accuracy']\n",
        "loss = history.history['loss']\n",
        "val_loss = history.history['val_loss']\n",
        "epochs = range(len(acc))\n",
        "\n",
        "\n",
        "\n",
        "plt.plot(epochs, acc, 'r', label='Training accuracy')\n",
        "plt. plot(epochs, val_acc, 'b', label='Validation accuracy')\n",
        "plt.title('Training and validation accuracy')\n",
        "plt.figure()\n",
        "\n",
        "\n"
      ],
      "execution_count": null,
      "outputs": []
    },
    {
      "cell_type": "markdown",
      "metadata": {
        "id": "CWyjyZ5EaQnn",
        "colab_type": "text"
      },
      "source": [
        "# 9. PCA with coordinates scaled Radius of Gyration"
      ]
    },
    {
      "cell_type": "code",
      "metadata": {
        "id": "0RG0e_BFaUT2",
        "colab_type": "code",
        "colab": {}
      },
      "source": [
        "## We need to scale this data accordingly.\n",
        "#data = scale(totalData)\n",
        "data = totalData"
      ],
      "execution_count": null,
      "outputs": []
    },
    {
      "cell_type": "code",
      "metadata": {
        "id": "uT-DvROGacaE",
        "colab_type": "code",
        "colab": {}
      },
      "source": [
        "## We can now perform a PCA decomposition down to about 10 components.\n",
        "pca = decomposition.PCA(n_components=10)\n",
        "pca.fit(data)"
      ],
      "execution_count": null,
      "outputs": []
    },
    {
      "cell_type": "code",
      "metadata": {
        "id": "zqomRwwkaf3t",
        "colab_type": "code",
        "colab": {}
      },
      "source": [
        "scores = pca.transform(data)\n",
        "\n",
        "## Put the scores into a readable dataframe. All the components will be shown.\n",
        "scoresDataframe = pd.DataFrame(scores, columns=['PC1', 'PC2', 'PC3', 'PC4', 'PC5', 'PC6', 'PC7', 'PC8', 'PC9', 'PC10'])\n",
        "\n",
        "\n",
        "##Lets append the labels on the PCA dataframe. $$$ B = 0 C = 1 Ge = 2 Gi = 3 $$$\n",
        "df =totalAnswers\n",
        "scoresDataframe = scoresDataframe.reset_index(drop=True)\n",
        "df = df.reset_index(drop=True)\n",
        "\n",
        "scoresDataframe.loc[:,'labels'] = df\n",
        "scoresDataframe"
      ],
      "execution_count": null,
      "outputs": []
    },
    {
      "cell_type": "code",
      "metadata": {
        "id": "LPj1iD4Ram-v",
        "colab_type": "code",
        "colab": {}
      },
      "source": [
        "explained_variance = pca.explained_variance_ratio_\n",
        "explained_variance\n",
        "\n",
        "explainedVariance = np.insert(explained_variance,0,0)\n",
        "cumulativeVariance = np.cumsum(np.round(explainedVariance, decimals=6))\n",
        "\n",
        "pcChart = pd.DataFrame(['','PC1', 'PC2', 'PC3', 'PC4', 'PC5', 'PC6', 'PC7', 'PC8', 'PC9', 'PC10'], columns=['PC'])\n",
        "explainedVarianceDataframe = pd.DataFrame(explainedVariance, columns=['Explained Variance'])\n",
        "cumulativeVarianceDataframe = pd.DataFrame(cumulativeVariance, columns=['Cumulative Variance'])\n",
        "\n",
        "pcaCombinedDf = pd.concat([pcChart, explainedVarianceDataframe, cumulativeVarianceDataframe], axis=1)\n",
        "pcaCombinedDf"
      ],
      "execution_count": null,
      "outputs": []
    },
    {
      "cell_type": "code",
      "metadata": {
        "id": "2LL4BPwsaquK",
        "colab_type": "code",
        "colab": {}
      },
      "source": [
        "from plotly.subplots import make_subplots\n",
        "import plotly.graph_objects as go\n",
        "\n",
        "fig = make_subplots(rows=1, cols=2)\n",
        "\n",
        "#This is the line graph\n",
        "fig.add_trace(go.Scatter(x=pcaCombinedDf['PC'], y=pcaCombinedDf['Cumulative Variance'], marker=dict(size=10, color=\"LightSeaGreen\")), row=1, col=1)\n",
        "\n",
        "#This is the bar graph\n",
        "fig.add_trace(go.Bar(x=pcaCombinedDf['PC'], y=pcaCombinedDf['Explained Variance'],marker=dict(color=\"RoyalBlue\"),), row=1, col=2)\n",
        "\n",
        "\n",
        "fig.update_layout(\n",
        "    title=\"PCA stats\",\n",
        "    xaxis_title=\"PCA number\",\n",
        "    yaxis_title=\"Percentage\",\n",
        "    font=dict(family=\"Times New Roman, monospace\", size=11))\n",
        "fig.show()"
      ],
      "execution_count": null,
      "outputs": []
    },
    {
      "cell_type": "code",
      "metadata": {
        "id": "Vw_l4-iYaxh_",
        "colab_type": "code",
        "colab": {}
      },
      "source": [
        "import plotly.express as px\n",
        "\n",
        "fig = px.scatter(scoresDataframe, x='PC1', y='PC2', color='labels')\n",
        "\n",
        "fig.show()"
      ],
      "execution_count": null,
      "outputs": []
    },
    {
      "cell_type": "code",
      "metadata": {
        "id": "mHBQPbChayS6",
        "colab_type": "code",
        "colab": {}
      },
      "source": [
        "import plotly.express as px\n",
        "\n",
        "fig = px.scatter_3d(scoresDataframe, x='PC1', y='PC2', z='PC3', color='labels')\n",
        "\n",
        "fig.show()"
      ],
      "execution_count": null,
      "outputs": []
    },
    {
      "cell_type": "markdown",
      "metadata": {
        "id": "fPlb1d97bQzt",
        "colab_type": "text"
      },
      "source": [
        "PCA with coordinates scaled Radius of Gyration without R"
      ]
    },
    {
      "cell_type": "code",
      "metadata": {
        "id": "AWfmoe4jbeqp",
        "colab_type": "code",
        "colab": {}
      },
      "source": [
        "##This data frame is concat from 100 row element files (127 files in total). Each monomer structure is created by 100 rows, each with three coordinates.\n",
        "\n",
        "##Clunky, but he we read each different type of monomer into a pandas df.\n",
        "bData = pd.read_csv('/content/polymer-ML-research/gyration modified coordinates/b-config-gyration.csv', header=None)\n",
        "cData = pd.read_csv('/content/polymer-ML-research/gyration modified coordinates/c-config-gyration.csv', header=None)\n",
        "geData = pd.read_csv('/content/polymer-ML-research/gyration modified coordinates/ge-config-gyration.csv', header=None)\n",
        "giData = pd.read_csv('/content/polymer-ML-research/gyration modified coordinates/gi-config-gyration.csv', header=None)\n",
        "\n",
        "##Read in the \"answers\" for the monomer types. B = 0, C = 1, Ge = 2, Gi = 3 for our case\n",
        "bAnswers = pd.read_csv('/content/polymer-ML-research/Answers/b-labels.csv', header = None)\n",
        "cAnswers = pd.read_csv('/content/polymer-ML-research/Answers/c-labels.csv', header = None)\n",
        "geAnswers = pd.read_csv('/content/polymer-ML-research/Answers/ge-labels.csv', header=None)\n",
        "giAnswers = pd.read_csv('/content/polymer-ML-research/Answers/gi-labels.csv', header=None)\n",
        "\n",
        "##Now we shall concat, respectivly, the Data & Answers\n",
        "totalData = pd.concat([bData, cData, geData, giData])\n",
        "totalAnswers = pd.concat([bAnswers, cAnswers, geAnswers, giAnswers])"
      ],
      "execution_count": null,
      "outputs": []
    },
    {
      "cell_type": "code",
      "metadata": {
        "id": "uZX5bg7fbUE3",
        "colab_type": "code",
        "colab": {}
      },
      "source": [
        "## We need to scale this data accordingly.\n",
        "#data = scale(totalData)\n",
        "data = totalData"
      ],
      "execution_count": null,
      "outputs": []
    },
    {
      "cell_type": "code",
      "metadata": {
        "id": "qGo5ADvObaDS",
        "colab_type": "code",
        "colab": {}
      },
      "source": [
        "## We can now perform a PCA decomposition down to about 10 components.\n",
        "pca = decomposition.PCA(n_components=10)\n",
        "pca.fit(data)"
      ],
      "execution_count": null,
      "outputs": []
    },
    {
      "cell_type": "code",
      "metadata": {
        "id": "1G7DIFHSbn9W",
        "colab_type": "code",
        "colab": {}
      },
      "source": [
        "scores = pca.transform(data)\n",
        "\n",
        "## Put the scores into a readable dataframe. All the components will be shown.\n",
        "scoresDataframe = pd.DataFrame(scores, columns=['PC1', 'PC2', 'PC3', 'PC4', 'PC5', 'PC6', 'PC7', 'PC8', 'PC9', 'PC10'])\n",
        "\n",
        "\n",
        "##Lets append the labels on the PCA dataframe. $$$ B = 0 C = 1 Ge = 2 Gi = 3 $$$\n",
        "df =totalAnswers\n",
        "scoresDataframe = scoresDataframe.reset_index(drop=True)\n",
        "df = df.reset_index(drop=True)\n",
        "\n",
        "scoresDataframe.loc[:,'labels'] = df\n",
        "scoresDataframe"
      ],
      "execution_count": null,
      "outputs": []
    },
    {
      "cell_type": "code",
      "metadata": {
        "id": "J8GspYMobsGN",
        "colab_type": "code",
        "colab": {}
      },
      "source": [
        "explained_variance = pca.explained_variance_ratio_\n",
        "explained_variance\n",
        "\n",
        "explainedVariance = np.insert(explained_variance,0,0)\n",
        "cumulativeVariance = np.cumsum(np.round(explainedVariance, decimals=6))\n",
        "\n",
        "pcChart = pd.DataFrame(['','PC1', 'PC2', 'PC3', 'PC4', 'PC5', 'PC6', 'PC7', 'PC8', 'PC9', 'PC10'], columns=['PC'])\n",
        "explainedVarianceDataframe = pd.DataFrame(explainedVariance, columns=['Explained Variance'])\n",
        "cumulativeVarianceDataframe = pd.DataFrame(cumulativeVariance, columns=['Cumulative Variance'])\n",
        "\n",
        "pcaCombinedDf = pd.concat([pcChart, explainedVarianceDataframe, cumulativeVarianceDataframe], axis=1)\n",
        "pcaCombinedDf"
      ],
      "execution_count": null,
      "outputs": []
    },
    {
      "cell_type": "code",
      "metadata": {
        "id": "q8Bb7X2AbxFx",
        "colab_type": "code",
        "colab": {}
      },
      "source": [
        "from plotly.subplots import make_subplots\n",
        "import plotly.graph_objects as go\n",
        "\n",
        "fig = make_subplots(rows=1, cols=2)\n",
        "\n",
        "#This is the line graph\n",
        "fig.add_trace(go.Scatter(x=pcaCombinedDf['PC'], y=pcaCombinedDf['Cumulative Variance'], marker=dict(size=10, color=\"LightSeaGreen\")), row=1, col=1)\n",
        "\n",
        "#This is the bar graph\n",
        "fig.add_trace(go.Bar(x=pcaCombinedDf['PC'], y=pcaCombinedDf['Explained Variance'],marker=dict(color=\"RoyalBlue\"),), row=1, col=2)\n",
        "\n",
        "\n",
        "fig.update_layout(\n",
        "    title=\"PCA stats\",\n",
        "    xaxis_title=\"PCA number\",\n",
        "    yaxis_title=\"Percentage\",\n",
        "    font=dict(family=\"Times New Roman, monospace\", size=11))\n",
        "fig.show()"
      ],
      "execution_count": null,
      "outputs": []
    },
    {
      "cell_type": "code",
      "metadata": {
        "id": "uRDWzdQfb5xl",
        "colab_type": "code",
        "colab": {}
      },
      "source": [
        "import plotly.express as px\n",
        "\n",
        "fig = px.scatter(scoresDataframe, x='PC1', y='PC2', color='labels')\n",
        "\n",
        "fig.show()"
      ],
      "execution_count": null,
      "outputs": []
    },
    {
      "cell_type": "markdown",
      "metadata": {
        "id": "rXe0WBBCbfvy",
        "colab_type": "text"
      },
      "source": [
        "MDS with Radius of Gyration scaling"
      ]
    },
    {
      "cell_type": "code",
      "metadata": {
        "id": "j0VJfEKhbe4C",
        "colab_type": "code",
        "colab": {
          "base_uri": "https://localhost:8080/"
        },
        "outputId": "82e4b14c-71d0-456f-d004-378c6f951d78"
      },
      "source": [
        "##This data frame is concat from 100 row element files (127 files in total). Each monomer structure is created by 100 rows, each with three coordinates.\n",
        "\n",
        "##Clunky, but he we read each different type of monomer into a pandas df.\n",
        "bData = pd.read_csv('/content/monomer-new-data/gyration-configs/b-config-gyration.csv', header=None)\n",
        "cData = pd.read_csv('/content/monomer-new-data/gyration-configs/c-config-gyration.csv', header=None)\n",
        "geData = pd.read_csv('/content/monomer-new-data/gyration-configs/ge-config-gyration.csv', header=None)\n",
        "giData = pd.read_csv('/content/monomer-new-data/gyration-configs/gi-config-gyration.csv', header=None)\n",
        "\n",
        "##Read in the \"answers\" for the monomer types. B = 0, C = 1, Ge = 2, Gi = 3 for our case\n",
        "bAnswers = pd.read_csv('/content/monomer-new-data/Answers/b-labels.csv', header = None)\n",
        "cAnswers = pd.read_csv('/content/monomer-new-data/Answers/c-labels.csv', header = None)\n",
        "geAnswers = pd.read_csv('/content/monomer-new-data/Answers/ge-labels.csv', header=None)\n",
        "giAnswers = pd.read_csv('/content/monomer-new-data/Answers/gi-labels.csv', header=None)\n",
        "\n",
        "##Now we shall concat, respectivly, the Data & Answers\n",
        "totalData = pd.concat([bData, cData, geData, giData])\n",
        "totalAnswers = pd.concat([bAnswers, cAnswers, geAnswers, giAnswers])\n",
        "\n",
        "\n",
        "# MDS (Raw data without subtracting center of mass)\n",
        "# Scale the coordinates using standard scaler before the analysis\n",
        "\n",
        "from sklearn.preprocessing import StandardScaler\n",
        "\n",
        "scaler = StandardScaler()\n",
        "X = scaler.fit_transform(totalData)\n",
        "\n",
        "from sklearn.manifold import MDS\n",
        "mds = MDS(n_components=2, metric=True, n_init=10, max_iter=1000, eps=1e-4)\n",
        "X_reduced = mds.fit_transform(X)\n",
        "\n",
        "n_classes = 4\n",
        "cmap = matplotlib.colors.ListedColormap(['blue', 'green', 'black', 'red'])\n",
        "\n",
        "matplotlib.rcParams.update({'font.size':18})\n",
        "plt.figure(figsize=(10,8))\n",
        "sc = plt.scatter(X_reduced[:, 0], X_reduced[:, 1], c=totalAnswers, s=20, cmap=cmap)\n",
        "cbar = plt.colorbar(sc)\n",
        "\n",
        "tick_locs = (np.arange(n_classes) + 0.5)*(n_classes-1)/n_classes\n",
        "cbar.set_ticks(tick_locs)\n",
        "# set tick labels (as before)\n",
        "cbar.set_ticklabels(['B', 'C', 'Ge', 'Gi'])\n",
        "\n",
        "plt.xlabel(r'$z_1$')\n",
        "plt.ylabel(r'$z_2$')\n",
        "plt.title('Multidimensional Scaling (MDS)')"
      ],
      "execution_count": null,
      "outputs": [
        {
          "output_type": "execute_result",
          "data": {
            "text/plain": [
              "Text(0.5, 1.0, 'Multidimensional Scaling (MDS)')"
            ]
          },
          "metadata": {
            "tags": []
          },
          "execution_count": 28
        },
        {
          "output_type": "display_data",
          "data": {
            "image/png": "[encoded data removed]",
            "text/plain": [
              "<Figure size 720x576 with 2 Axes>"
            ]
          },
          "metadata": {
            "tags": [],
            "needs_background": "light"
          }
        }
      ]
    }
  ]
}